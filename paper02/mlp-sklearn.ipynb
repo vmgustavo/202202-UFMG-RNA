{
 "cells": [
  {
   "cell_type": "code",
   "execution_count": 25,
   "metadata": {},
   "outputs": [],
   "source": [
    "import warnings\n",
    "\n",
    "from collections import Counter\n",
    "\n",
    "from itertools import product\n",
    "\n",
    "from tqdm import tqdm\n",
    "\n",
    "import pandas as pd\n",
    "\n",
    "import numpy as np\n",
    "\n",
    "import matplotlib.pyplot as plt\n",
    "\n",
    "from sklearn.model_selection import train_test_split\n",
    "from sklearn.metrics import accuracy_score, classification_report, silhouette_score\n",
    "from sklearn.neural_network import MLPClassifier\n",
    "from sklearn.manifold import TSNE, MDS\n",
    "from sklearn.decomposition import PCA\n",
    "\n",
    "from src.datasets import (\n",
    "    alldts, get_blobs, get_linear,\n",
    "    get_breast_cancer_wisconsin, get_breast_cancer_coimbra, get_german_credit,\n",
    "    get_australian_credit,\n",
    ")"
   ]
  },
  {
   "cell_type": "markdown",
   "metadata": {},
   "source": [
    "## Test"
   ]
  },
  {
   "cell_type": "code",
   "execution_count": null,
   "metadata": {},
   "outputs": [],
   "source": [
    "data, target = get_breast_cancer_wisconsin()\n",
    "# data, target = get_blobs(n_obs=512)\n",
    "X_train, X_test, y_train, y_test = train_test_split(data.values, target.values, stratify=target, test_size=.1)"
   ]
  },
  {
   "cell_type": "code",
   "execution_count": null,
   "metadata": {},
   "outputs": [],
   "source": [
    "model = MLPClassifier(\n",
    "    hidden_layer_sizes=(int(2**13), ), activation=\"tanh\", solver=\"adam\",\n",
    "    alpha=0, beta_1=0.9, beta_2=0.999,\n",
    "    max_iter=100,\n",
    "    verbose=True, shuffle=False,\n",
    "    early_stopping=False, validation_fraction=0.1,\n",
    "    n_iter_no_change=256, tol=1e-6,\n",
    "    epsilon=1e-8, learning_rate=\"constant\",\n",
    ")"
   ]
  },
  {
   "cell_type": "code",
   "execution_count": null,
   "metadata": {},
   "outputs": [],
   "source": [
    "model.fit(X_train, y_train)"
   ]
  },
  {
   "cell_type": "code",
   "execution_count": null,
   "metadata": {},
   "outputs": [],
   "source": [
    "accuracy_score(y_pred=model.predict(X_train), y_true=y_train), accuracy_score(y_pred=model.predict(X_test), y_true=y_test)"
   ]
  },
  {
   "cell_type": "code",
   "execution_count": null,
   "metadata": {},
   "outputs": [],
   "source": [
    "plt.plot(model.loss_curve_)\n",
    "plt.yscale(\"log\")\n",
    "plt.grid(True, \"both\", alpha=.3)"
   ]
  },
  {
   "cell_type": "code",
   "execution_count": null,
   "metadata": {},
   "outputs": [],
   "source": [
    "print(classification_report(y_pred=model.predict(X_train), y_true=y_train))"
   ]
  },
  {
   "cell_type": "code",
   "execution_count": null,
   "metadata": {},
   "outputs": [],
   "source": [
    "print(classification_report(y_pred=model.predict(X_test), y_true=y_test))"
   ]
  },
  {
   "cell_type": "markdown",
   "metadata": {},
   "source": [
    "## Execute for all datasets"
   ]
  },
  {
   "cell_type": "markdown",
   "metadata": {},
   "source": [
    "### solver adam"
   ]
  },
  {
   "cell_type": "code",
   "execution_count": null,
   "metadata": {},
   "outputs": [],
   "source": [
    "res = list()\n",
    "\n",
    "for name, (data, target) in alldts().items():\n",
    "    X_train, X_test, y_train, y_test = train_test_split(data.values, target.values, stratify=target, test_size=.1)\n",
    "\n",
    "    model = MLPClassifier(\n",
    "        hidden_layer_sizes=(int(2**10), ), activation=\"tanh\", solver=\"adam\",\n",
    "        alpha=0, beta_1=0.9, beta_2=0.999,\n",
    "        max_iter=1024,\n",
    "        verbose=False, shuffle=False,\n",
    "        early_stopping=False, validation_fraction=0.1,\n",
    "        n_iter_no_change=128, tol=1e-6,\n",
    "        epsilon=1e-8, learning_rate=\"constant\",\n",
    "    )\n",
    "\n",
    "    model.fit(X_train, y_train)\n",
    "\n",
    "    res.append((\n",
    "        name,\n",
    "        accuracy_score(y_pred=model.predict(X_train), y_true=y_train),\n",
    "        accuracy_score(y_pred=model.predict(X_test), y_true=y_test),\n",
    "        model.best_loss_\n",
    "    ))\n",
    "    print(res[-1])"
   ]
  },
  {
   "cell_type": "code",
   "execution_count": null,
   "metadata": {},
   "outputs": [],
   "source": [
    "for elem in res:\n",
    "    print(elem)"
   ]
  },
  {
   "cell_type": "markdown",
   "metadata": {},
   "source": [
    "```\n",
    "('synth_linear', 0.9788388497015735, 0.9707317073170731, 0.052382419507525285)\n",
    "('synth_blobs', 0.8562126966901791, 0.8634146341463415, 0.3211682111107963)\n",
    "('synth_moons', 0.9739555073250136, 0.975609756097561, 0.07893427880505421)\n",
    "('cred_aus', 1.0, 0.8115942028985508, 0.003973575106792552)\n",
    "('cred_ger', 1.0, 0.73, 0.00016377633931161258)\n",
    "('banknote', 1.0, 1.0, 9.819143678097311e-05)\n",
    "('breast_coimbra', 1.0, 0.5833333333333334, 0.0016671655433862797)\n",
    "('breast_wiscons', 0.998371335504886, 0.9855072463768116, 0.010349796410566922)\n",
    "('haberman_surv', 0.7927272727272727, 0.7741935483870968, 0.4558088231894344)\n",
    "('sonar', 1.0, 0.9047619047619048, 0.00025074506213388937)\n",
    "('heart', 1.0, 0.7777777777777778, 0.0024350693271338307)\n",
    "```"
   ]
  },
  {
   "cell_type": "markdown",
   "metadata": {},
   "source": [
    "### solver lbfgs"
   ]
  },
  {
   "cell_type": "code",
   "execution_count": null,
   "metadata": {},
   "outputs": [],
   "source": [
    "res = list()\n",
    "\n",
    "for name, (data, target) in alldts().items():\n",
    "    X_train, X_test, y_train, y_test = train_test_split(data.values, target.values, stratify=target, test_size=.1)\n",
    "\n",
    "    model = MLPClassifier(\n",
    "        hidden_layer_sizes=(int(2**10), ), activation=\"tanh\", solver=\"lbfgs\",\n",
    "        alpha=0, beta_1=0.9, beta_2=0.999,\n",
    "        max_iter=1024,\n",
    "        verbose=False, shuffle=False,\n",
    "        early_stopping=False, validation_fraction=0.1,\n",
    "        n_iter_no_change=128, tol=1e-6,\n",
    "        epsilon=1e-8, learning_rate=\"constant\",\n",
    "    )\n",
    "\n",
    "    model.fit(X_train, y_train)\n",
    "\n",
    "    res.append((\n",
    "        name,\n",
    "        accuracy_score(y_pred=model.predict(X_train), y_true=y_train),\n",
    "        accuracy_score(y_pred=model.predict(X_test), y_true=y_test)\n",
    "    ))\n",
    "    print(res[-1])"
   ]
  },
  {
   "cell_type": "code",
   "execution_count": null,
   "metadata": {},
   "outputs": [],
   "source": [
    "for elem in res:\n",
    "    print(elem)"
   ]
  },
  {
   "cell_type": "markdown",
   "metadata": {},
   "source": [
    "```\n",
    "('synth_linear', 1.0, 0.9317073170731708)\n",
    "('synth_blobs', 0.8811720021703744, 0.8536585365853658)\n",
    "('synth_moons', 0.9858925664677157, 0.9560975609756097)\n",
    "('cred_aus', 1.0, 0.7681159420289855)\n",
    "('cred_ger', 1.0, 0.76)\n",
    "('banknote', 1.0, 1.0)\n",
    "('breast_coimbra', 1.0, 0.8333333333333334)\n",
    "('breast_wiscons', 1.0, 0.9420289855072463)\n",
    "('haberman_surv', 0.9818181818181818, 0.6451612903225806)\n",
    "('sonar', 1.0, 0.8571428571428571)\n",
    "('heart', 1.0, 0.7407407407407407)\n",
    "```"
   ]
  },
  {
   "cell_type": "markdown",
   "metadata": {},
   "source": [
    "## Execute for specific datasets"
   ]
  },
  {
   "cell_type": "markdown",
   "metadata": {},
   "source": [
    "### Coimbra"
   ]
  },
  {
   "cell_type": "code",
   "execution_count": null,
   "metadata": {},
   "outputs": [],
   "source": [
    "with warnings.catch_warnings():\n",
    "    warnings.simplefilter(\"ignore\")\n",
    "\n",
    "    res = list()\n",
    "\n",
    "    for _ in tqdm(range(30)):\n",
    "        data, target = get_breast_cancer_coimbra()\n",
    "        X_train, X_test, y_train, y_test = train_test_split(data.values, target.values, stratify=target, test_size=.3)\n",
    "\n",
    "        model = MLPClassifier(\n",
    "            hidden_layer_sizes=(int(2**10), ), activation=\"tanh\", solver=\"adam\",\n",
    "            alpha=0, beta_1=0.9, beta_2=0.999,\n",
    "            max_iter=2048,\n",
    "            verbose=False, shuffle=False,\n",
    "            early_stopping=False, validation_fraction=0.1,\n",
    "            n_iter_no_change=128, tol=1e-6,\n",
    "            epsilon=1e-8, learning_rate=\"constant\",\n",
    "        )\n",
    "\n",
    "        model.fit(X_train, y_train)\n",
    "\n",
    "        res.append((\n",
    "            accuracy_score(y_pred=model.predict(X_train), y_true=y_train),\n",
    "            accuracy_score(y_pred=model.predict(X_test), y_true=y_test),\n",
    "            model.best_loss_\n",
    "        ))"
   ]
  },
  {
   "cell_type": "code",
   "execution_count": null,
   "metadata": {},
   "outputs": [],
   "source": [
    "pd.DataFrame(res)[1].plot.hist(bins=np.linspace(0, 1, 21), figsize=(5, 2))"
   ]
  },
  {
   "cell_type": "markdown",
   "metadata": {},
   "source": [
    "### German Credit"
   ]
  },
  {
   "cell_type": "code",
   "execution_count": null,
   "metadata": {},
   "outputs": [],
   "source": [
    "with warnings.catch_warnings():\n",
    "    warnings.simplefilter(\"ignore\")\n",
    "\n",
    "    res = list()\n",
    "\n",
    "    for _ in tqdm(range(30)):\n",
    "        data, target = get_german_credit()\n",
    "        X_train, X_test, y_train, y_test = train_test_split(data.values, target.values, stratify=target, test_size=.3)\n",
    "\n",
    "        model = MLPClassifier(\n",
    "            hidden_layer_sizes=(int(2**10), ), activation=\"tanh\", solver=\"adam\",\n",
    "            alpha=0, beta_1=0.9, beta_2=0.999,\n",
    "            max_iter=2048,\n",
    "            verbose=False, shuffle=False,\n",
    "            early_stopping=False, validation_fraction=0.1,\n",
    "            n_iter_no_change=128, tol=1e-6,\n",
    "            epsilon=1e-8, learning_rate=\"constant\",\n",
    "        )\n",
    "\n",
    "        model.fit(X_train, y_train)\n",
    "\n",
    "        res.append((\n",
    "            accuracy_score(y_pred=model.predict(X_train), y_true=y_train),\n",
    "            accuracy_score(y_pred=model.predict(X_test), y_true=y_test),\n",
    "            model.best_loss_\n",
    "        ))"
   ]
  },
  {
   "cell_type": "code",
   "execution_count": null,
   "metadata": {},
   "outputs": [],
   "source": [
    "pd.DataFrame(res)[1].plot.hist(bins=np.linspace(0, 1, 21), figsize=(5, 2))"
   ]
  },
  {
   "cell_type": "markdown",
   "metadata": {},
   "source": [
    "## Define performance metrics"
   ]
  },
  {
   "cell_type": "code",
   "execution_count": 2,
   "metadata": {},
   "outputs": [],
   "source": [
    "from sklearn.metrics import (\n",
    "    silhouette_samples, silhouette_score,\n",
    "    calinski_harabasz_score,\n",
    "    davies_bouldin_score,\n",
    ")\n",
    "def sil_neg_samples_score(X, labels):\n",
    "    res = silhouette_samples(X, labels)\n",
    "\n",
    "    counts = Counter(res > 0)\n",
    "    return counts[False] / (counts[False] + counts[True])\n",
    "    \n",
    "def cluster_evaluate(X, labels):\n",
    "    metrics = [\n",
    "        silhouette_score,\n",
    "        sil_neg_samples_score,\n",
    "        calinski_harabasz_score,\n",
    "        davies_bouldin_score,\n",
    "    ]\n",
    "\n",
    "    return {\n",
    "        metric.__name__: metric(X=X, labels=labels)\n",
    "        for metric in metrics\n",
    "    }"
   ]
  },
  {
   "cell_type": "markdown",
   "metadata": {},
   "source": [
    "## Evaluate network weights"
   ]
  },
  {
   "cell_type": "code",
   "execution_count": 62,
   "metadata": {},
   "outputs": [
    {
     "name": "stderr",
     "output_type": "stream",
     "text": [
      "  0%|          | 0/210 [00:09<?, ?it/s]\n"
     ]
    }
   ],
   "source": [
    "repeat = 10\n",
    "alphas = [0] + list(np.logspace(-1, 1/2, num=20))\n",
    "\n",
    "with warnings.catch_warnings():\n",
    "    warnings.simplefilter(\"ignore\")\n",
    "\n",
    "    res = list()\n",
    "\n",
    "    for _, alpha in tqdm(list(product(range(repeat), alphas))):\n",
    "        data, target = get_australian_credit()\n",
    "        X_train, X_test, y_train, y_test = train_test_split(data.values, target.values, stratify=target, test_size=.3)\n",
    "\n",
    "        model = MLPClassifier(\n",
    "            hidden_layer_sizes=(64, 32, 16, 8, 4, 2), activation=\"tanh\", solver=\"adam\",\n",
    "            alpha=alpha, beta_1=0.9, beta_2=0.999,\n",
    "            max_iter=1024,\n",
    "            verbose=False, shuffle=False,\n",
    "            early_stopping=False, validation_fraction=0.1,\n",
    "            n_iter_no_change=512, tol=1e-6,\n",
    "            epsilon=1e-8, learning_rate=\"constant\",\n",
    "        )\n",
    "\n",
    "        model.fit(X_train, y_train)\n",
    "        break\n",
    "\n",
    "        res.append(dict({\n",
    "            \"alpha\": alpha,\n",
    "            \"acc_train\": accuracy_score(y_pred=model.predict(X_train), y_true=y_train),\n",
    "            \"acc_test\": accuracy_score(y_pred=model.predict(X_test), y_true=y_test),\n",
    "            \"best_loss\": model.best_loss_,\n",
    "            \"iterations\": model.n_iter_\n",
    "        }, **cluster_evaluate(X=np.tanh(X_train @ model.coefs_[0]), labels=y_train)))"
   ]
  },
  {
   "cell_type": "code",
   "execution_count": 74,
   "metadata": {},
   "outputs": [
    {
     "data": {
      "text/plain": [
       "[array([ 1.34044063e-01, -1.46267967e-01, -4.83622762e-02, -5.46339085e-02,\n",
       "         1.81603585e-01,  4.87010311e-05,  2.10678195e-01, -2.05909086e-01,\n",
       "        -2.23362089e-01, -2.38406595e-01, -3.33710810e-01,  1.74912441e-01,\n",
       "         1.35040747e-01,  1.65266936e-01,  1.64483818e-01,  9.67764108e-02,\n",
       "        -1.70682469e-01, -3.00628279e-01,  8.47451483e-02,  6.44158540e-02,\n",
       "        -1.84440573e-03,  2.08937360e-01, -1.14557552e-01, -1.26493702e-01,\n",
       "         1.38201482e-01, -3.44923567e-01, -1.16295331e-01, -5.26017221e-03,\n",
       "        -7.03834170e-02,  2.22596812e-01,  8.39052260e-02,  1.07178180e-01,\n",
       "        -1.02132654e-01,  1.91586685e-01,  6.68672379e-02, -1.99926451e-02,\n",
       "         1.99731823e-01,  7.59769852e-02, -2.86289192e-02, -5.07879923e-02,\n",
       "         3.79526874e-02, -1.13511841e-01, -3.74350251e-01,  1.00453642e-01,\n",
       "        -1.66891664e-01,  3.05126122e-01, -1.32178326e-03, -1.33579448e-01,\n",
       "         1.98785917e-01, -8.08994142e-02, -2.45527838e-01, -2.00513942e-02,\n",
       "         1.66607730e-01, -2.59399965e-02, -1.22477455e-02, -6.89626262e-02,\n",
       "         2.76516065e-01,  1.52774292e-01, -3.68367601e-02,  5.47911233e-02,\n",
       "        -1.46674157e-03, -1.23355937e-01,  1.90766270e-01,  2.67161759e-01]),\n",
       " array([-0.17225593,  0.06840365, -0.18869849,  0.14043982,  0.05673807,\n",
       "         0.16270744, -0.05476467,  0.07838284,  0.078806  ,  0.00292255,\n",
       "        -0.06211683, -0.04693615, -0.03272602, -0.13099775, -0.03638945,\n",
       "         0.03853784,  0.16143723, -0.07052498,  0.12404493, -0.03348576,\n",
       "        -0.07193393, -0.05471925, -0.0711652 ,  0.190738  , -0.17450614,\n",
       "        -0.18590318,  0.16930849, -0.11544526, -0.09719169, -0.08163246,\n",
       "        -0.32617065,  0.04314392]),\n",
       " array([ 0.33674554, -0.01957006,  0.05737859,  0.31906055,  0.03709449,\n",
       "         0.15122105,  0.02764329,  0.02648652, -0.05446686,  0.01452381,\n",
       "        -0.19298098, -0.03358952,  0.07006126, -0.11341352, -0.13529164,\n",
       "        -0.06915804]),\n",
       " array([ 0.53510126,  0.01488321, -0.15929212, -0.13187906, -0.03509482,\n",
       "         0.11131756, -0.00718424, -0.02412275]),\n",
       " array([-0.02774742, -0.01810477,  0.07987876, -0.047754  ]),\n",
       " array([-0.10019038, -0.09776449]),\n",
       " array([0.23549361])]"
      ]
     },
     "execution_count": 74,
     "metadata": {},
     "output_type": "execute_result"
    }
   ],
   "source": [
    "model.intercepts_"
   ]
  },
  {
   "cell_type": "code",
   "execution_count": 63,
   "metadata": {},
   "outputs": [],
   "source": [
    "from functools import reduce"
   ]
  },
  {
   "cell_type": "code",
   "execution_count": 64,
   "metadata": {},
   "outputs": [],
   "source": [
    "def feed_forward(a, b):\n",
    "    return np.tanh(a @ b)"
   ]
  },
  {
   "cell_type": "code",
   "execution_count": 65,
   "metadata": {},
   "outputs": [],
   "source": [
    "projection = reduce(feed_forward, [X_train] + model.coefs_[:-1])"
   ]
  },
  {
   "cell_type": "code",
   "execution_count": 66,
   "metadata": {},
   "outputs": [
    {
     "data": {
      "text/plain": [
       "(0.9730848861283644, 0.8405797101449275)"
      ]
     },
     "execution_count": 66,
     "metadata": {},
     "output_type": "execute_result"
    }
   ],
   "source": [
    "accuracy_score(y_pred=model.predict(X_train), y_true=y_train), accuracy_score(y_pred=model.predict(X_test), y_true=y_test)"
   ]
  },
  {
   "cell_type": "code",
   "execution_count": 67,
   "metadata": {},
   "outputs": [
    {
     "data": {
      "text/plain": [
       "Counter({-1: 268, 1: 215})"
      ]
     },
     "execution_count": 67,
     "metadata": {},
     "output_type": "execute_result"
    }
   ],
   "source": [
    "Counter(y_train)"
   ]
  },
  {
   "cell_type": "code",
   "execution_count": 68,
   "metadata": {},
   "outputs": [
    {
     "data": {
      "text/plain": [
       "Counter({-1: 268, 1: 215})"
      ]
     },
     "execution_count": 68,
     "metadata": {},
     "output_type": "execute_result"
    }
   ],
   "source": [
    "Counter(y_train)"
   ]
  },
  {
   "cell_type": "code",
   "execution_count": 69,
   "metadata": {},
   "outputs": [
    {
     "data": {
      "text/plain": [
       "<matplotlib.lines.Line2D at 0x7fc2b9d1fd90>"
      ]
     },
     "execution_count": 69,
     "metadata": {},
     "output_type": "execute_result"
    },
    {
     "data": {
      "image/png": "[encoded data removed]",
      "text/plain": [
       "<Figure size 1200x500 with 2 Axes>"
      ]
     },
     "metadata": {},
     "output_type": "display_data"
    }
   ],
   "source": [
    "fig, ax = plt.subplots(2, 1, figsize=(12, 5))\n",
    "ax[0].scatter(projection[np.where(y_train > 0)[0], 0], projection[np.where(y_train > 0)[0], 1], alpha=.4, color=\"red\")\n",
    "ax[1].scatter(projection[np.where(y_train < 0)[0], 0], projection[np.where(y_train < 0)[0], 1], alpha=.4, color=\"blue\")\n",
    "ax[0].axvline(0)\n",
    "ax[1].axvline(0)"
   ]
  },
  {
   "cell_type": "code",
   "execution_count": 70,
   "metadata": {},
   "outputs": [
    {
     "data": {
      "text/plain": [
       "(Counter({False: 205, True: 10}), Counter({True: 233, False: 35}))"
      ]
     },
     "execution_count": 70,
     "metadata": {},
     "output_type": "execute_result"
    }
   ],
   "source": [
    "Counter(projection[np.where(y_train > 0)[0], 0] < 0), Counter(projection[np.where(y_train < 0)[0], 0] < 0)"
   ]
  },
  {
   "cell_type": "code",
   "execution_count": 71,
   "metadata": {},
   "outputs": [
    {
     "data": {
      "text/plain": [
       "{'silhouette_score': 0.7327759453396545,\n",
       " 'sil_neg_samples_score': 0.09109730848861283,\n",
       " 'calinski_harabasz_score': 1228.7965264025174,\n",
       " 'davies_bouldin_score': 0.3549620886454462}"
      ]
     },
     "execution_count": 71,
     "metadata": {},
     "output_type": "execute_result"
    }
   ],
   "source": [
    "cluster_evaluate(X=projection, labels=y_train)"
   ]
  },
  {
   "cell_type": "code",
   "execution_count": 8,
   "metadata": {},
   "outputs": [],
   "source": [
    "df_res = pd.json_normalize(res)"
   ]
  },
  {
   "cell_type": "code",
   "execution_count": 9,
   "metadata": {},
   "outputs": [
    {
     "ename": "KeyError",
     "evalue": "'alpha'",
     "output_type": "error",
     "traceback": [
      "\u001b[0;31m---------------------------------------------------------------------------\u001b[0m",
      "\u001b[0;31mKeyError\u001b[0m                                  Traceback (most recent call last)",
      "Cell \u001b[0;32mIn [9], line 1\u001b[0m\n\u001b[0;32m----> 1\u001b[0m df_res_grouped \u001b[39m=\u001b[39m df_res\u001b[39m.\u001b[39;49mgroupby(\u001b[39m\"\u001b[39;49m\u001b[39malpha\u001b[39;49m\u001b[39m\"\u001b[39;49m, as_index\u001b[39m=\u001b[39;49m\u001b[39mFalse\u001b[39;49;00m)\u001b[39m.\u001b[39mmean()\n\u001b[1;32m      2\u001b[0m df_res_grouped\n",
      "File \u001b[0;32m~/UFMG/202202-UFMG-RNA/.venv/lib/python3.9/site-packages/pandas/core/frame.py:8389\u001b[0m, in \u001b[0;36mDataFrame.groupby\u001b[0;34m(self, by, axis, level, as_index, sort, group_keys, squeeze, observed, dropna)\u001b[0m\n\u001b[1;32m   8386\u001b[0m     \u001b[39mraise\u001b[39;00m \u001b[39mTypeError\u001b[39;00m(\u001b[39m\"\u001b[39m\u001b[39mYou have to supply one of \u001b[39m\u001b[39m'\u001b[39m\u001b[39mby\u001b[39m\u001b[39m'\u001b[39m\u001b[39m and \u001b[39m\u001b[39m'\u001b[39m\u001b[39mlevel\u001b[39m\u001b[39m'\u001b[39m\u001b[39m\"\u001b[39m)\n\u001b[1;32m   8387\u001b[0m axis \u001b[39m=\u001b[39m \u001b[39mself\u001b[39m\u001b[39m.\u001b[39m_get_axis_number(axis)\n\u001b[0;32m-> 8389\u001b[0m \u001b[39mreturn\u001b[39;00m DataFrameGroupBy(\n\u001b[1;32m   8390\u001b[0m     obj\u001b[39m=\u001b[39;49m\u001b[39mself\u001b[39;49m,\n\u001b[1;32m   8391\u001b[0m     keys\u001b[39m=\u001b[39;49mby,\n\u001b[1;32m   8392\u001b[0m     axis\u001b[39m=\u001b[39;49maxis,\n\u001b[1;32m   8393\u001b[0m     level\u001b[39m=\u001b[39;49mlevel,\n\u001b[1;32m   8394\u001b[0m     as_index\u001b[39m=\u001b[39;49mas_index,\n\u001b[1;32m   8395\u001b[0m     sort\u001b[39m=\u001b[39;49msort,\n\u001b[1;32m   8396\u001b[0m     group_keys\u001b[39m=\u001b[39;49mgroup_keys,\n\u001b[1;32m   8397\u001b[0m     squeeze\u001b[39m=\u001b[39;49msqueeze,\n\u001b[1;32m   8398\u001b[0m     observed\u001b[39m=\u001b[39;49mobserved,\n\u001b[1;32m   8399\u001b[0m     dropna\u001b[39m=\u001b[39;49mdropna,\n\u001b[1;32m   8400\u001b[0m )\n",
      "File \u001b[0;32m~/UFMG/202202-UFMG-RNA/.venv/lib/python3.9/site-packages/pandas/core/groupby/groupby.py:959\u001b[0m, in \u001b[0;36mGroupBy.__init__\u001b[0;34m(self, obj, keys, axis, level, grouper, exclusions, selection, as_index, sort, group_keys, squeeze, observed, mutated, dropna)\u001b[0m\n\u001b[1;32m    956\u001b[0m \u001b[39mif\u001b[39;00m grouper \u001b[39mis\u001b[39;00m \u001b[39mNone\u001b[39;00m:\n\u001b[1;32m    957\u001b[0m     \u001b[39mfrom\u001b[39;00m \u001b[39mpandas\u001b[39;00m\u001b[39m.\u001b[39;00m\u001b[39mcore\u001b[39;00m\u001b[39m.\u001b[39;00m\u001b[39mgroupby\u001b[39;00m\u001b[39m.\u001b[39;00m\u001b[39mgrouper\u001b[39;00m \u001b[39mimport\u001b[39;00m get_grouper\n\u001b[0;32m--> 959\u001b[0m     grouper, exclusions, obj \u001b[39m=\u001b[39m get_grouper(\n\u001b[1;32m    960\u001b[0m         obj,\n\u001b[1;32m    961\u001b[0m         keys,\n\u001b[1;32m    962\u001b[0m         axis\u001b[39m=\u001b[39;49maxis,\n\u001b[1;32m    963\u001b[0m         level\u001b[39m=\u001b[39;49mlevel,\n\u001b[1;32m    964\u001b[0m         sort\u001b[39m=\u001b[39;49msort,\n\u001b[1;32m    965\u001b[0m         observed\u001b[39m=\u001b[39;49mobserved,\n\u001b[1;32m    966\u001b[0m         mutated\u001b[39m=\u001b[39;49m\u001b[39mself\u001b[39;49m\u001b[39m.\u001b[39;49mmutated,\n\u001b[1;32m    967\u001b[0m         dropna\u001b[39m=\u001b[39;49m\u001b[39mself\u001b[39;49m\u001b[39m.\u001b[39;49mdropna,\n\u001b[1;32m    968\u001b[0m     )\n\u001b[1;32m    970\u001b[0m \u001b[39mself\u001b[39m\u001b[39m.\u001b[39mobj \u001b[39m=\u001b[39m obj\n\u001b[1;32m    971\u001b[0m \u001b[39mself\u001b[39m\u001b[39m.\u001b[39maxis \u001b[39m=\u001b[39m obj\u001b[39m.\u001b[39m_get_axis_number(axis)\n",
      "File \u001b[0;32m~/UFMG/202202-UFMG-RNA/.venv/lib/python3.9/site-packages/pandas/core/groupby/grouper.py:888\u001b[0m, in \u001b[0;36mget_grouper\u001b[0;34m(obj, key, axis, level, sort, observed, mutated, validate, dropna)\u001b[0m\n\u001b[1;32m    886\u001b[0m         in_axis, level, gpr \u001b[39m=\u001b[39m \u001b[39mFalse\u001b[39;00m, gpr, \u001b[39mNone\u001b[39;00m\n\u001b[1;32m    887\u001b[0m     \u001b[39melse\u001b[39;00m:\n\u001b[0;32m--> 888\u001b[0m         \u001b[39mraise\u001b[39;00m \u001b[39mKeyError\u001b[39;00m(gpr)\n\u001b[1;32m    889\u001b[0m \u001b[39melif\u001b[39;00m \u001b[39misinstance\u001b[39m(gpr, Grouper) \u001b[39mand\u001b[39;00m gpr\u001b[39m.\u001b[39mkey \u001b[39mis\u001b[39;00m \u001b[39mnot\u001b[39;00m \u001b[39mNone\u001b[39;00m:\n\u001b[1;32m    890\u001b[0m     \u001b[39m# Add key to exclusions\u001b[39;00m\n\u001b[1;32m    891\u001b[0m     exclusions\u001b[39m.\u001b[39madd(gpr\u001b[39m.\u001b[39mkey)\n",
      "\u001b[0;31mKeyError\u001b[0m: 'alpha'"
     ]
    }
   ],
   "source": [
    "df_res_grouped = df_res.groupby(\"alpha\", as_index=False).mean()\n",
    "df_res_grouped"
   ]
  },
  {
   "cell_type": "code",
   "execution_count": 10,
   "metadata": {},
   "outputs": [
    {
     "ename": "NameError",
     "evalue": "name 'df_res_grouped' is not defined",
     "output_type": "error",
     "traceback": [
      "\u001b[0;31m---------------------------------------------------------------------------\u001b[0m",
      "\u001b[0;31mNameError\u001b[0m                                 Traceback (most recent call last)",
      "Cell \u001b[0;32mIn [10], line 1\u001b[0m\n\u001b[0;32m----> 1\u001b[0m df_res_grouped\u001b[39m.\u001b[39mcorrwith(df_res_grouped[\u001b[39m\"\u001b[39m\u001b[39macc_test\u001b[39m\u001b[39m\"\u001b[39m])\n",
      "\u001b[0;31mNameError\u001b[0m: name 'df_res_grouped' is not defined"
     ]
    }
   ],
   "source": [
    "df_res_grouped.corrwith(df_res_grouped[\"acc_test\"])"
   ]
  },
  {
   "cell_type": "code",
   "execution_count": null,
   "metadata": {},
   "outputs": [
    {
     "ename": "",
     "evalue": "",
     "output_type": "error",
     "traceback": [
      "\u001b[1;31mnotebook controller is DISPOSED. \n",
      "\u001b[1;31mView Jupyter <a href='command:jupyter.viewOutput'>log</a> for further details."
     ]
    }
   ],
   "source": [
    "plt.figure(figsize=(5, 2))\n",
    "ax = plt.gca()\n",
    "\n",
    "x = df_res[\"alpha\"]\n",
    "poly_train = np.poly1d(np.polyfit(df_res[\"alpha\"], df_res[\"acc_train\"], 1))\n",
    "poly_test = np.poly1d(np.polyfit(df_res[\"alpha\"], df_res[\"acc_test\"], 1))\n",
    "\n",
    "plt.plot(x, poly_train(x), label=\"train\")\n",
    "plt.plot(x, poly_test(x), label=\"test\")\n",
    "plt.legend()\n",
    "plt.show()\n",
    "plt.close()"
   ]
  },
  {
   "cell_type": "code",
   "execution_count": null,
   "metadata": {},
   "outputs": [],
   "source": [
    "plt.figure(figsize=(12, 5))\n",
    "ax = plt.gca()\n",
    "\n",
    "(\n",
    "    df_res\n",
    "    [[\"alpha\", \"acc_train\"]]\n",
    "    .plot.scatter(\n",
    "        x=[\"alpha\"],\n",
    "        y=[\"acc_train\"],\n",
    "        c=\"black\", edgecolors=\"black\", alpha=.5,\n",
    "        ax=ax, label=\"acc_train\",\n",
    "    )\n",
    ")\n",
    "\n",
    "(\n",
    "    df_res\n",
    "    [[\"alpha\", \"acc_test\"]]\n",
    "    .plot.scatter(\n",
    "        x=[\"alpha\"],\n",
    "        y=[\"acc_test\"],\n",
    "        c=\"white\", edgecolors=\"black\", alpha=.5,\n",
    "        ax=ax, label=\"acc_test\",\n",
    "    )\n",
    ")\n",
    "\n",
    "axt = ax.twinx()\n",
    "\n",
    "(\n",
    "    df_res\n",
    "    [[\"alpha\", \"silhouette_score\"]]\n",
    "    .plot.scatter(\n",
    "        x=\"alpha\",\n",
    "        y=\"silhouette_score\",\n",
    "        c=\"red\", alpha=.2,\n",
    "        ax=axt, label=\"silhouette_score\"\n",
    "    )\n",
    ")\n",
    "\n",
    "axt2 = ax.twinx()\n",
    "\n",
    "(\n",
    "    df_res\n",
    "    [[\"alpha\", \"silhouette_neg_samples\"]]\n",
    "    .plot.scatter(\n",
    "        x=\"alpha\",\n",
    "        y=\"silhouette_neg_samples\",\n",
    "        c=\"blue\", alpha=.2,\n",
    "        ax=axt2, label=\"silhouette_neg_samples\"\n",
    "    )\n",
    ")\n",
    "\n",
    "ax.legend(bbox_to_anchor=(0, 1), loc=\"lower left\")\n",
    "axt.legend(bbox_to_anchor=(1, 1), loc=\"lower right\")\n",
    "axt2.legend(bbox_to_anchor=(1, 1.1), loc=\"lower right\")\n",
    "axt2.spines.right.set_position((\"axes\", 1.1))"
   ]
  },
  {
   "cell_type": "markdown",
   "metadata": {},
   "source": [
    "---"
   ]
  }
 ],
 "metadata": {
  "kernelspec": {
   "display_name": "Python 3.9.14 ('.venv': poetry)",
   "language": "python",
   "name": "python3"
  },
  "language_info": {
   "codemirror_mode": {
    "name": "ipython",
    "version": 3
   },
   "file_extension": ".py",
   "mimetype": "text/x-python",
   "name": "python",
   "nbconvert_exporter": "python",
   "pygments_lexer": "ipython3",
   "version": "3.9.14"
  },
  "orig_nbformat": 4,
  "vscode": {
   "interpreter": {
    "hash": "5aaa17ceaad73b17e34098533828f17edc35a2441ebc374a71d3291ab1f65c24"
   }
  }
 },
 "nbformat": 4,
 "nbformat_minor": 2
}
