{
 "cells": [
  {
   "cell_type": "code",
   "execution_count": 126,
   "metadata": {},
   "outputs": [],
   "source": [
    "import warnings\n",
    "\n",
    "from collections import Counter\n",
    "\n",
    "from itertools import product\n",
    "\n",
    "from tqdm import tqdm\n",
    "\n",
    "import pandas as pd\n",
    "\n",
    "import numpy as np\n",
    "\n",
    "import matplotlib.pyplot as plt\n",
    "\n",
    "from umap import UMAP\n",
    "\n",
    "from sklearn.model_selection import train_test_split\n",
    "from sklearn.metrics import accuracy_score, classification_report, silhouette_score\n",
    "from sklearn.neural_network import MLPClassifier\n",
    "from sklearn.manifold import TSNE, MDS\n",
    "from sklearn.decomposition import PCA\n",
    "\n",
    "from src.datasets import (\n",
    "    alldts, get_blobs, get_linear,\n",
    "    get_breast_cancer_wisconsin, get_breast_cancer_coimbra, get_german_credit\n",
    ")"
   ]
  },
  {
   "cell_type": "markdown",
   "metadata": {},
   "source": [
    "## Test"
   ]
  },
  {
   "cell_type": "code",
   "execution_count": null,
   "metadata": {},
   "outputs": [],
   "source": [
    "data, target = get_breast_cancer_wisconsin()\n",
    "# data, target = get_blobs(n_obs=512)\n",
    "X_train, X_test, y_train, y_test = train_test_split(data.values, target.values, stratify=target, test_size=.1)"
   ]
  },
  {
   "cell_type": "code",
   "execution_count": null,
   "metadata": {},
   "outputs": [],
   "source": [
    "model = MLPClassifier(\n",
    "    hidden_layer_sizes=(int(2**13), ), activation=\"tanh\", solver=\"adam\",\n",
    "    alpha=0, beta_1=0.9, beta_2=0.999,\n",
    "    max_iter=100,\n",
    "    verbose=True, shuffle=False,\n",
    "    early_stopping=False, validation_fraction=0.1,\n",
    "    n_iter_no_change=256, tol=1e-6,\n",
    "    epsilon=1e-8, learning_rate=\"constant\",\n",
    ")"
   ]
  },
  {
   "cell_type": "code",
   "execution_count": null,
   "metadata": {},
   "outputs": [],
   "source": [
    "model.fit(X_train, y_train)"
   ]
  },
  {
   "cell_type": "code",
   "execution_count": null,
   "metadata": {},
   "outputs": [],
   "source": [
    "accuracy_score(y_pred=model.predict(X_train), y_true=y_train), accuracy_score(y_pred=model.predict(X_test), y_true=y_test)"
   ]
  },
  {
   "cell_type": "code",
   "execution_count": null,
   "metadata": {},
   "outputs": [],
   "source": [
    "plt.plot(model.loss_curve_)\n",
    "plt.yscale(\"log\")\n",
    "plt.grid(True, \"both\", alpha=.3)"
   ]
  },
  {
   "cell_type": "code",
   "execution_count": null,
   "metadata": {},
   "outputs": [],
   "source": [
    "print(classification_report(y_pred=model.predict(X_train), y_true=y_train))"
   ]
  },
  {
   "cell_type": "code",
   "execution_count": null,
   "metadata": {},
   "outputs": [],
   "source": [
    "print(classification_report(y_pred=model.predict(X_test), y_true=y_test))"
   ]
  },
  {
   "cell_type": "markdown",
   "metadata": {},
   "source": [
    "## Execute for all datasets"
   ]
  },
  {
   "cell_type": "markdown",
   "metadata": {},
   "source": [
    "### solver adam"
   ]
  },
  {
   "cell_type": "code",
   "execution_count": 99,
   "metadata": {},
   "outputs": [
    {
     "name": "stdout",
     "output_type": "stream",
     "text": [
      "('synth_linear', 0.972327726532827, 0.9609756097560975, 0.07479060085331873)\n"
     ]
    },
    {
     "name": "stderr",
     "output_type": "stream",
     "text": [
      "/home/maia/UFMG/202202-UFMG-RNA/.venv/lib/python3.9/site-packages/sklearn/neural_network/_multilayer_perceptron.py:702: ConvergenceWarning: Stochastic Optimizer: Maximum iterations (1024) reached and the optimization hasn't converged yet.\n",
      "  warnings.warn(\n"
     ]
    },
    {
     "name": "stdout",
     "output_type": "stream",
     "text": [
      "('synth_blobs', 0.8648941942485079, 0.8536585365853658, 0.317625693929805)\n"
     ]
    },
    {
     "name": "stderr",
     "output_type": "stream",
     "text": [
      "/home/maia/UFMG/202202-UFMG-RNA/.venv/lib/python3.9/site-packages/sklearn/neural_network/_multilayer_perceptron.py:702: ConvergenceWarning: Stochastic Optimizer: Maximum iterations (1024) reached and the optimization hasn't converged yet.\n",
      "  warnings.warn(\n"
     ]
    },
    {
     "name": "stdout",
     "output_type": "stream",
     "text": [
      "('synth_moons', 0.9663591969614759, 0.975609756097561, 0.08113484595582693)\n"
     ]
    },
    {
     "name": "stderr",
     "output_type": "stream",
     "text": [
      "/home/maia/UFMG/202202-UFMG-RNA/.venv/lib/python3.9/site-packages/sklearn/neural_network/_multilayer_perceptron.py:702: ConvergenceWarning: Stochastic Optimizer: Maximum iterations (1024) reached and the optimization hasn't converged yet.\n",
      "  warnings.warn(\n"
     ]
    },
    {
     "name": "stdout",
     "output_type": "stream",
     "text": [
      "('cred_aus', 0.9951690821256038, 0.8840579710144928, 0.013603051970907467)\n",
      "('cred_ger', 1.0, 0.75, 0.0001647416399917494)\n",
      "('banknote', 1.0, 1.0, 9.90775449600081e-05)\n"
     ]
    },
    {
     "name": "stderr",
     "output_type": "stream",
     "text": [
      "/home/maia/UFMG/202202-UFMG-RNA/.venv/lib/python3.9/site-packages/sklearn/neural_network/_multilayer_perceptron.py:702: ConvergenceWarning: Stochastic Optimizer: Maximum iterations (1024) reached and the optimization hasn't converged yet.\n",
      "  warnings.warn(\n"
     ]
    },
    {
     "name": "stdout",
     "output_type": "stream",
     "text": [
      "('breast_coimbra', 1.0, 0.75, 0.0017770310664138344)\n"
     ]
    },
    {
     "name": "stderr",
     "output_type": "stream",
     "text": [
      "/home/maia/UFMG/202202-UFMG-RNA/.venv/lib/python3.9/site-packages/sklearn/neural_network/_multilayer_perceptron.py:702: ConvergenceWarning: Stochastic Optimizer: Maximum iterations (1024) reached and the optimization hasn't converged yet.\n",
      "  warnings.warn(\n"
     ]
    },
    {
     "name": "stdout",
     "output_type": "stream",
     "text": [
      "('breast_wiscons', 1.0, 0.9130434782608695, 0.002470728167867502)\n"
     ]
    },
    {
     "name": "stderr",
     "output_type": "stream",
     "text": [
      "/home/maia/UFMG/202202-UFMG-RNA/.venv/lib/python3.9/site-packages/sklearn/neural_network/_multilayer_perceptron.py:702: ConvergenceWarning: Stochastic Optimizer: Maximum iterations (1024) reached and the optimization hasn't converged yet.\n",
      "  warnings.warn(\n"
     ]
    },
    {
     "name": "stdout",
     "output_type": "stream",
     "text": [
      "('haberman_surv', 0.7672727272727272, 0.7741935483870968, 0.4986803897335225)\n",
      "('sonar', 1.0, 0.7619047619047619, 0.00023943274137558672)\n",
      "('heart', 1.0, 0.8148148148148148, 0.0037144178182797905)\n"
     ]
    },
    {
     "name": "stderr",
     "output_type": "stream",
     "text": [
      "/home/maia/UFMG/202202-UFMG-RNA/.venv/lib/python3.9/site-packages/sklearn/neural_network/_multilayer_perceptron.py:702: ConvergenceWarning: Stochastic Optimizer: Maximum iterations (1024) reached and the optimization hasn't converged yet.\n",
      "  warnings.warn(\n"
     ]
    }
   ],
   "source": [
    "res = list()\n",
    "\n",
    "for name, (data, target) in alldts().items():\n",
    "    X_train, X_test, y_train, y_test = train_test_split(data.values, target.values, stratify=target, test_size=.1)\n",
    "\n",
    "    model = MLPClassifier(\n",
    "        hidden_layer_sizes=(int(2**10), ), activation=\"tanh\", solver=\"adam\",\n",
    "        alpha=0, beta_1=0.9, beta_2=0.999,\n",
    "        max_iter=1024,\n",
    "        verbose=False, shuffle=False,\n",
    "        early_stopping=False, validation_fraction=0.1,\n",
    "        n_iter_no_change=128, tol=1e-6,\n",
    "        epsilon=1e-8, learning_rate=\"constant\",\n",
    "    )\n",
    "\n",
    "    model.fit(X_train, y_train)\n",
    "\n",
    "    res.append((\n",
    "        name,\n",
    "        accuracy_score(y_pred=model.predict(X_train), y_true=y_train),\n",
    "        accuracy_score(y_pred=model.predict(X_test), y_true=y_test),\n",
    "        model.best_loss_\n",
    "    ))\n",
    "    print(res[-1])"
   ]
  },
  {
   "cell_type": "code",
   "execution_count": 100,
   "metadata": {},
   "outputs": [
    {
     "name": "stdout",
     "output_type": "stream",
     "text": [
      "('synth_linear', 0.972327726532827, 0.9609756097560975, 0.07479060085331873)\n",
      "('synth_blobs', 0.8648941942485079, 0.8536585365853658, 0.317625693929805)\n",
      "('synth_moons', 0.9663591969614759, 0.975609756097561, 0.08113484595582693)\n",
      "('cred_aus', 0.9951690821256038, 0.8840579710144928, 0.013603051970907467)\n",
      "('cred_ger', 1.0, 0.75, 0.0001647416399917494)\n",
      "('banknote', 1.0, 1.0, 9.90775449600081e-05)\n",
      "('breast_coimbra', 1.0, 0.75, 0.0017770310664138344)\n",
      "('breast_wiscons', 1.0, 0.9130434782608695, 0.002470728167867502)\n",
      "('haberman_surv', 0.7672727272727272, 0.7741935483870968, 0.4986803897335225)\n",
      "('sonar', 1.0, 0.7619047619047619, 0.00023943274137558672)\n",
      "('heart', 1.0, 0.8148148148148148, 0.0037144178182797905)\n"
     ]
    }
   ],
   "source": [
    "for elem in res:\n",
    "    print(elem)"
   ]
  },
  {
   "cell_type": "markdown",
   "metadata": {},
   "source": [
    "```\n",
    "('synth_linear', 0.9788388497015735, 0.9707317073170731, 0.052382419507525285)\n",
    "('synth_blobs', 0.8562126966901791, 0.8634146341463415, 0.3211682111107963)\n",
    "('synth_moons', 0.9739555073250136, 0.975609756097561, 0.07893427880505421)\n",
    "('cred_aus', 1.0, 0.8115942028985508, 0.003973575106792552)\n",
    "('cred_ger', 1.0, 0.73, 0.00016377633931161258)\n",
    "('banknote', 1.0, 1.0, 9.819143678097311e-05)\n",
    "('breast_coimbra', 1.0, 0.5833333333333334, 0.0016671655433862797)\n",
    "('breast_wiscons', 0.998371335504886, 0.9855072463768116, 0.010349796410566922)\n",
    "('haberman_surv', 0.7927272727272727, 0.7741935483870968, 0.4558088231894344)\n",
    "('sonar', 1.0, 0.9047619047619048, 0.00025074506213388937)\n",
    "('heart', 1.0, 0.7777777777777778, 0.0024350693271338307)\n",
    "```"
   ]
  },
  {
   "cell_type": "markdown",
   "metadata": {},
   "source": [
    "### solver lbfgs"
   ]
  },
  {
   "cell_type": "code",
   "execution_count": 102,
   "metadata": {},
   "outputs": [
    {
     "name": "stdout",
     "output_type": "stream",
     "text": [
      "('synth_linear', 1.0, 0.9317073170731708)\n"
     ]
    },
    {
     "name": "stderr",
     "output_type": "stream",
     "text": [
      "/home/maia/UFMG/202202-UFMG-RNA/.venv/lib/python3.9/site-packages/sklearn/neural_network/_multilayer_perceptron.py:559: ConvergenceWarning: lbfgs failed to converge (status=1):\n",
      "STOP: TOTAL NO. of ITERATIONS REACHED LIMIT.\n",
      "\n",
      "Increase the number of iterations (max_iter) or scale the data as shown in:\n",
      "    https://scikit-learn.org/stable/modules/preprocessing.html\n",
      "  self.n_iter_ = _check_optimize_result(\"lbfgs\", opt_res, self.max_iter)\n"
     ]
    },
    {
     "name": "stdout",
     "output_type": "stream",
     "text": [
      "('synth_blobs', 0.8811720021703744, 0.8536585365853658)\n"
     ]
    },
    {
     "name": "stderr",
     "output_type": "stream",
     "text": [
      "/home/maia/UFMG/202202-UFMG-RNA/.venv/lib/python3.9/site-packages/sklearn/neural_network/_multilayer_perceptron.py:559: ConvergenceWarning: lbfgs failed to converge (status=1):\n",
      "STOP: TOTAL NO. of ITERATIONS REACHED LIMIT.\n",
      "\n",
      "Increase the number of iterations (max_iter) or scale the data as shown in:\n",
      "    https://scikit-learn.org/stable/modules/preprocessing.html\n",
      "  self.n_iter_ = _check_optimize_result(\"lbfgs\", opt_res, self.max_iter)\n"
     ]
    },
    {
     "name": "stdout",
     "output_type": "stream",
     "text": [
      "('synth_moons', 0.9858925664677157, 0.9560975609756097)\n",
      "('cred_aus', 1.0, 0.7681159420289855)\n",
      "('cred_ger', 1.0, 0.76)\n",
      "('banknote', 1.0, 1.0)\n",
      "('breast_coimbra', 1.0, 0.8333333333333334)\n",
      "('breast_wiscons', 1.0, 0.9420289855072463)\n",
      "('haberman_surv', 0.9818181818181818, 0.6451612903225806)\n",
      "('sonar', 1.0, 0.8571428571428571)\n",
      "('heart', 1.0, 0.7407407407407407)\n"
     ]
    }
   ],
   "source": [
    "res = list()\n",
    "\n",
    "for name, (data, target) in alldts().items():\n",
    "    X_train, X_test, y_train, y_test = train_test_split(data.values, target.values, stratify=target, test_size=.1)\n",
    "\n",
    "    model = MLPClassifier(\n",
    "        hidden_layer_sizes=(int(2**10), ), activation=\"tanh\", solver=\"lbfgs\",\n",
    "        alpha=0, beta_1=0.9, beta_2=0.999,\n",
    "        max_iter=1024,\n",
    "        verbose=False, shuffle=False,\n",
    "        early_stopping=False, validation_fraction=0.1,\n",
    "        n_iter_no_change=128, tol=1e-6,\n",
    "        epsilon=1e-8, learning_rate=\"constant\",\n",
    "    )\n",
    "\n",
    "    model.fit(X_train, y_train)\n",
    "\n",
    "    res.append((\n",
    "        name,\n",
    "        accuracy_score(y_pred=model.predict(X_train), y_true=y_train),\n",
    "        accuracy_score(y_pred=model.predict(X_test), y_true=y_test)\n",
    "    ))\n",
    "    print(res[-1])"
   ]
  },
  {
   "cell_type": "code",
   "execution_count": 103,
   "metadata": {},
   "outputs": [
    {
     "name": "stdout",
     "output_type": "stream",
     "text": [
      "('synth_linear', 1.0, 0.9317073170731708)\n",
      "('synth_blobs', 0.8811720021703744, 0.8536585365853658)\n",
      "('synth_moons', 0.9858925664677157, 0.9560975609756097)\n",
      "('cred_aus', 1.0, 0.7681159420289855)\n",
      "('cred_ger', 1.0, 0.76)\n",
      "('banknote', 1.0, 1.0)\n",
      "('breast_coimbra', 1.0, 0.8333333333333334)\n",
      "('breast_wiscons', 1.0, 0.9420289855072463)\n",
      "('haberman_surv', 0.9818181818181818, 0.6451612903225806)\n",
      "('sonar', 1.0, 0.8571428571428571)\n",
      "('heart', 1.0, 0.7407407407407407)\n"
     ]
    }
   ],
   "source": [
    "for elem in res:\n",
    "    print(elem)"
   ]
  },
  {
   "cell_type": "markdown",
   "metadata": {},
   "source": [
    "```\n",
    "('synth_linear', 1.0, 0.9317073170731708)\n",
    "('synth_blobs', 0.8811720021703744, 0.8536585365853658)\n",
    "('synth_moons', 0.9858925664677157, 0.9560975609756097)\n",
    "('cred_aus', 1.0, 0.7681159420289855)\n",
    "('cred_ger', 1.0, 0.76)\n",
    "('banknote', 1.0, 1.0)\n",
    "('breast_coimbra', 1.0, 0.8333333333333334)\n",
    "('breast_wiscons', 1.0, 0.9420289855072463)\n",
    "('haberman_surv', 0.9818181818181818, 0.6451612903225806)\n",
    "('sonar', 1.0, 0.8571428571428571)\n",
    "('heart', 1.0, 0.7407407407407407)\n",
    "```"
   ]
  },
  {
   "cell_type": "markdown",
   "metadata": {},
   "source": [
    "## Execute for specific datasets"
   ]
  },
  {
   "cell_type": "markdown",
   "metadata": {},
   "source": [
    "### Coimbra"
   ]
  },
  {
   "cell_type": "code",
   "execution_count": null,
   "metadata": {},
   "outputs": [],
   "source": [
    "with warnings.catch_warnings():\n",
    "    warnings.simplefilter(\"ignore\")\n",
    "\n",
    "    res = list()\n",
    "\n",
    "    for _ in tqdm(range(30)):\n",
    "        data, target = get_breast_cancer_coimbra()\n",
    "        X_train, X_test, y_train, y_test = train_test_split(data.values, target.values, stratify=target, test_size=.3)\n",
    "\n",
    "        model = MLPClassifier(\n",
    "            hidden_layer_sizes=(int(2**10), ), activation=\"tanh\", solver=\"adam\",\n",
    "            alpha=0, beta_1=0.9, beta_2=0.999,\n",
    "            max_iter=2048,\n",
    "            verbose=False, shuffle=False,\n",
    "            early_stopping=False, validation_fraction=0.1,\n",
    "            n_iter_no_change=128, tol=1e-6,\n",
    "            epsilon=1e-8, learning_rate=\"constant\",\n",
    "        )\n",
    "\n",
    "        model.fit(X_train, y_train)\n",
    "\n",
    "        res.append((\n",
    "            accuracy_score(y_pred=model.predict(X_train), y_true=y_train),\n",
    "            accuracy_score(y_pred=model.predict(X_test), y_true=y_test),\n",
    "            model.best_loss_\n",
    "        ))"
   ]
  },
  {
   "cell_type": "code",
   "execution_count": null,
   "metadata": {},
   "outputs": [],
   "source": [
    "pd.DataFrame(res)[1].plot.hist(bins=np.linspace(0, 1, 21), figsize=(5, 2))"
   ]
  },
  {
   "cell_type": "markdown",
   "metadata": {},
   "source": [
    "### German Credit"
   ]
  },
  {
   "cell_type": "code",
   "execution_count": null,
   "metadata": {},
   "outputs": [],
   "source": [
    "with warnings.catch_warnings():\n",
    "    warnings.simplefilter(\"ignore\")\n",
    "\n",
    "    res = list()\n",
    "\n",
    "    for _ in tqdm(range(30)):\n",
    "        data, target = get_german_credit()\n",
    "        X_train, X_test, y_train, y_test = train_test_split(data.values, target.values, stratify=target, test_size=.3)\n",
    "\n",
    "        model = MLPClassifier(\n",
    "            hidden_layer_sizes=(int(2**10), ), activation=\"tanh\", solver=\"adam\",\n",
    "            alpha=0, beta_1=0.9, beta_2=0.999,\n",
    "            max_iter=2048,\n",
    "            verbose=False, shuffle=False,\n",
    "            early_stopping=False, validation_fraction=0.1,\n",
    "            n_iter_no_change=128, tol=1e-6,\n",
    "            epsilon=1e-8, learning_rate=\"constant\",\n",
    "        )\n",
    "\n",
    "        model.fit(X_train, y_train)\n",
    "\n",
    "        res.append((\n",
    "            accuracy_score(y_pred=model.predict(X_train), y_true=y_train),\n",
    "            accuracy_score(y_pred=model.predict(X_test), y_true=y_test),\n",
    "            model.best_loss_\n",
    "        ))"
   ]
  },
  {
   "cell_type": "code",
   "execution_count": null,
   "metadata": {},
   "outputs": [],
   "source": [
    "pd.DataFrame(res)[1].plot.hist(bins=np.linspace(0, 1, 21), figsize=(5, 2))"
   ]
  },
  {
   "cell_type": "markdown",
   "metadata": {},
   "source": [
    "## Define performance metrics"
   ]
  },
  {
   "cell_type": "code",
   "execution_count": 187,
   "metadata": {},
   "outputs": [],
   "source": [
    "from sklearn.metrics import (\n",
    "    silhouette_samples, silhouette_score,\n",
    "    calinski_harabasz_score,\n",
    "    davies_bouldin_score,\n",
    ")\n",
    "def sil_neg_samples_score(X, labels):\n",
    "    res = silhouette_samples(X, labels)\n",
    "\n",
    "    counts = Counter(res > 0)\n",
    "    return counts[False] / (counts[False] + counts[True])\n",
    "    \n",
    "def cluster_evaluate(X, labels):\n",
    "    metrics = [\n",
    "        silhouette_score,\n",
    "        sil_neg_samples_score,\n",
    "        calinski_harabasz_score,\n",
    "        davies_bouldin_score,\n",
    "    ]\n",
    "\n",
    "    return {\n",
    "        metric.__name__: metric(X=X, labels=labels)\n",
    "        for metric in metrics\n",
    "    }"
   ]
  },
  {
   "cell_type": "markdown",
   "metadata": {},
   "source": [
    "## Evaluate network weights"
   ]
  },
  {
   "cell_type": "code",
   "execution_count": 177,
   "metadata": {},
   "outputs": [
    {
     "name": "stderr",
     "output_type": "stream",
     "text": [
      "100%|██████████| 40/40 [23:38<00:00, 35.47s/it]\n"
     ]
    }
   ],
   "source": [
    "repeat = 10\n",
    "alphas = [0] + list(np.logspace(-1, 1/2, num=20))\n",
    "\n",
    "with warnings.catch_warnings():\n",
    "    warnings.simplefilter(\"ignore\")\n",
    "\n",
    "    res = list()\n",
    "\n",
    "    for _, alpha in tqdm(list(product(range(repeat), alphas))):\n",
    "        data, target = get_german_credit()\n",
    "        X_train, X_test, y_train, y_test = train_test_split(data.values, target.values, stratify=target, test_size=.3)\n",
    "\n",
    "        model = MLPClassifier(\n",
    "            hidden_layer_sizes=(int(2**10), ), activation=\"tanh\", solver=\"adam\",\n",
    "            alpha=alpha, beta_1=0.9, beta_2=0.999,\n",
    "            max_iter=1024,\n",
    "            verbose=False, shuffle=False,\n",
    "            early_stopping=False, validation_fraction=0.1,\n",
    "            n_iter_no_change=512, tol=1e-6,\n",
    "            epsilon=1e-8, learning_rate=\"constant\",\n",
    "        )\n",
    "\n",
    "        model.fit(X_train, y_train)\n",
    "\n",
    "        res.append(dict({\n",
    "            \"alpha\": alpha,\n",
    "            \"acc_train\": accuracy_score(y_pred=model.predict(X_train), y_true=y_train),\n",
    "            \"acc_test\": accuracy_score(y_pred=model.predict(X_test), y_true=y_test),\n",
    "            \"best_loss\": model.best_loss_,\n",
    "            \"iterations\": model.n_iter_\n",
    "        }, **cluster_evaluate(X=np.tanh(X_train @ model.coefs_[0]), labels=y_train)))"
   ]
  },
  {
   "cell_type": "code",
   "execution_count": 178,
   "metadata": {},
   "outputs": [],
   "source": [
    "df_res = pd.json_normalize(res)"
   ]
  },
  {
   "cell_type": "code",
   "execution_count": 179,
   "metadata": {},
   "outputs": [
    {
     "data": {
      "text/html": [
       "<div>\n",
       "<style scoped>\n",
       "    .dataframe tbody tr th:only-of-type {\n",
       "        vertical-align: middle;\n",
       "    }\n",
       "\n",
       "    .dataframe tbody tr th {\n",
       "        vertical-align: top;\n",
       "    }\n",
       "\n",
       "    .dataframe thead th {\n",
       "        text-align: right;\n",
       "    }\n",
       "</style>\n",
       "<table border=\"1\" class=\"dataframe\">\n",
       "  <thead>\n",
       "    <tr style=\"text-align: right;\">\n",
       "      <th></th>\n",
       "      <th>alpha</th>\n",
       "      <th>acc_train</th>\n",
       "      <th>acc_test</th>\n",
       "      <th>best_loss</th>\n",
       "      <th>iterations</th>\n",
       "      <th>silhouette_score</th>\n",
       "      <th>silhouette_neg_samples</th>\n",
       "      <th>calinski_harabasz_score</th>\n",
       "      <th>davies_bouldin_score</th>\n",
       "    </tr>\n",
       "  </thead>\n",
       "  <tbody>\n",
       "    <tr>\n",
       "      <th>0</th>\n",
       "      <td>0.0</td>\n",
       "      <td>1.000000</td>\n",
       "      <td>0.748667</td>\n",
       "      <td>0.000187</td>\n",
       "      <td>1024.0</td>\n",
       "      <td>0.018093</td>\n",
       "      <td>0.296286</td>\n",
       "      <td>7.019071</td>\n",
       "      <td>9.143940</td>\n",
       "    </tr>\n",
       "    <tr>\n",
       "      <th>1</th>\n",
       "      <td>0.1</td>\n",
       "      <td>1.000000</td>\n",
       "      <td>0.745333</td>\n",
       "      <td>0.050220</td>\n",
       "      <td>1024.0</td>\n",
       "      <td>0.017465</td>\n",
       "      <td>0.312429</td>\n",
       "      <td>7.239920</td>\n",
       "      <td>8.976903</td>\n",
       "    </tr>\n",
       "    <tr>\n",
       "      <th>2</th>\n",
       "      <td>1.0</td>\n",
       "      <td>0.993571</td>\n",
       "      <td>0.742667</td>\n",
       "      <td>0.252085</td>\n",
       "      <td>1024.0</td>\n",
       "      <td>0.025067</td>\n",
       "      <td>0.296857</td>\n",
       "      <td>11.367781</td>\n",
       "      <td>7.102194</td>\n",
       "    </tr>\n",
       "    <tr>\n",
       "      <th>3</th>\n",
       "      <td>2.0</td>\n",
       "      <td>0.831286</td>\n",
       "      <td>0.735000</td>\n",
       "      <td>0.432569</td>\n",
       "      <td>960.6</td>\n",
       "      <td>0.132953</td>\n",
       "      <td>0.256286</td>\n",
       "      <td>109.276212</td>\n",
       "      <td>2.488250</td>\n",
       "    </tr>\n",
       "  </tbody>\n",
       "</table>\n",
       "</div>"
      ],
      "text/plain": [
       "   alpha  acc_train  acc_test  best_loss  iterations  silhouette_score  \\\n",
       "0    0.0   1.000000  0.748667   0.000187      1024.0          0.018093   \n",
       "1    0.1   1.000000  0.745333   0.050220      1024.0          0.017465   \n",
       "2    1.0   0.993571  0.742667   0.252085      1024.0          0.025067   \n",
       "3    2.0   0.831286  0.735000   0.432569       960.6          0.132953   \n",
       "\n",
       "   silhouette_neg_samples  calinski_harabasz_score  davies_bouldin_score  \n",
       "0                0.296286                 7.019071              9.143940  \n",
       "1                0.312429                 7.239920              8.976903  \n",
       "2                0.296857                11.367781              7.102194  \n",
       "3                0.256286               109.276212              2.488250  "
      ]
     },
     "execution_count": 179,
     "metadata": {},
     "output_type": "execute_result"
    }
   ],
   "source": [
    "df_res_grouped = df_res.groupby(\"alpha\", as_index=False).mean()\n",
    "df_res_grouped"
   ]
  },
  {
   "cell_type": "code",
   "execution_count": 180,
   "metadata": {},
   "outputs": [
    {
     "data": {
      "text/plain": [
       "alpha                     -0.973103\n",
       "acc_train                  0.918900\n",
       "acc_test                   1.000000\n",
       "best_loss                 -0.971247\n",
       "iterations                 0.906738\n",
       "silhouette_score          -0.925336\n",
       "silhouette_neg_samples     0.849011\n",
       "calinski_harabasz_score   -0.920353\n",
       "davies_bouldin_score       0.975014\n",
       "dtype: float64"
      ]
     },
     "execution_count": 180,
     "metadata": {},
     "output_type": "execute_result"
    }
   ],
   "source": [
    "df_res_grouped.corrwith(df_res_grouped[\"acc_test\"])"
   ]
  },
  {
   "cell_type": "code",
   "execution_count": 181,
   "metadata": {},
   "outputs": [
    {
     "data": {
      "image/png": "[encoded data removed]",
      "text/plain": [
       "<Figure size 500x200 with 1 Axes>"
      ]
     },
     "metadata": {},
     "output_type": "display_data"
    }
   ],
   "source": [
    "plt.figure(figsize=(5, 2))\n",
    "ax = plt.gca()\n",
    "\n",
    "x = df_res[\"alpha\"]\n",
    "poly_train = np.poly1d(np.polyfit(df_res[\"alpha\"], df_res[\"acc_train\"], 1))\n",
    "poly_test = np.poly1d(np.polyfit(df_res[\"alpha\"], df_res[\"acc_test\"], 1))\n",
    "\n",
    "plt.plot(x, poly_train(x), label=\"train\")\n",
    "plt.plot(x, poly_test(x), label=\"test\")\n",
    "plt.legend()\n",
    "plt.show()\n",
    "plt.close()"
   ]
  },
  {
   "cell_type": "code",
   "execution_count": 183,
   "metadata": {},
   "outputs": [
    {
     "data": {
      "image/png": "[encoded data removed]",
      "text/plain": [
       "<Figure size 1200x500 with 3 Axes>"
      ]
     },
     "metadata": {},
     "output_type": "display_data"
    }
   ],
   "source": [
    "plt.figure(figsize=(12, 5))\n",
    "ax = plt.gca()\n",
    "\n",
    "(\n",
    "    df_res\n",
    "    [[\"alpha\", \"acc_train\"]]\n",
    "    .plot.scatter(\n",
    "        x=[\"alpha\"],\n",
    "        y=[\"acc_train\"],\n",
    "        c=\"black\", edgecolors=\"black\", alpha=.5,\n",
    "        ax=ax, label=\"acc_train\",\n",
    "    )\n",
    ")\n",
    "\n",
    "(\n",
    "    df_res\n",
    "    [[\"alpha\", \"acc_test\"]]\n",
    "    .plot.scatter(\n",
    "        x=[\"alpha\"],\n",
    "        y=[\"acc_test\"],\n",
    "        c=\"white\", edgecolors=\"black\", alpha=.5,\n",
    "        ax=ax, label=\"acc_test\",\n",
    "    )\n",
    ")\n",
    "\n",
    "axt = ax.twinx()\n",
    "\n",
    "(\n",
    "    df_res\n",
    "    [[\"alpha\", \"silhouette_score\"]]\n",
    "    .plot.scatter(\n",
    "        x=\"alpha\",\n",
    "        y=\"silhouette_score\",\n",
    "        c=\"red\", alpha=.2,\n",
    "        ax=axt, label=\"silhouette_score\"\n",
    "    )\n",
    ")\n",
    "\n",
    "axt2 = ax.twinx()\n",
    "\n",
    "(\n",
    "    df_res\n",
    "    [[\"alpha\", \"silhouette_neg_samples\"]]\n",
    "    .plot.scatter(\n",
    "        x=\"alpha\",\n",
    "        y=\"silhouette_neg_samples\",\n",
    "        c=\"blue\", alpha=.2,\n",
    "        ax=axt2, label=\"silhouette_neg_samples\"\n",
    "    )\n",
    ")\n",
    "\n",
    "ax.legend(bbox_to_anchor=(0, 1), loc=\"lower left\")\n",
    "axt.legend(bbox_to_anchor=(1, 1), loc=\"lower right\")\n",
    "axt2.legend(bbox_to_anchor=(1, 1.1), loc=\"lower right\")\n",
    "axt2.spines.right.set_position((\"axes\", 1.1))"
   ]
  },
  {
   "cell_type": "markdown",
   "metadata": {},
   "source": [
    "---"
   ]
  }
 ],
 "metadata": {
  "kernelspec": {
   "display_name": "Python 3.9.14 ('.venv': poetry)",
   "language": "python",
   "name": "python3"
  },
  "language_info": {
   "codemirror_mode": {
    "name": "ipython",
    "version": 3
   },
   "file_extension": ".py",
   "mimetype": "text/x-python",
   "name": "python",
   "nbconvert_exporter": "python",
   "pygments_lexer": "ipython3",
   "version": "3.9.14"
  },
  "orig_nbformat": 4,
  "vscode": {
   "interpreter": {
    "hash": "5aaa17ceaad73b17e34098533828f17edc35a2441ebc374a71d3291ab1f65c24"
   }
  }
 },
 "nbformat": 4,
 "nbformat_minor": 2
}
