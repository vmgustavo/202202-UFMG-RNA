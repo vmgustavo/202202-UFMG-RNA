{
 "cells": [
  {
   "cell_type": "code",
   "execution_count": 2,
   "metadata": {},
   "outputs": [],
   "source": [
    "from functools import reduce\n",
    "import warnings\n",
    "from dataclasses import dataclass"
   ]
  },
  {
   "cell_type": "code",
   "execution_count": 3,
   "metadata": {},
   "outputs": [],
   "source": [
    "import numpy as np\n",
    "import pandas as pd\n",
    "from tqdm import tqdm"
   ]
  },
  {
   "cell_type": "code",
   "execution_count": 4,
   "outputs": [],
   "source": [
    "import matplotlib.pyplot as plt\n",
    "plt.style.use(\"grayscale\")"
   ],
   "metadata": {
    "collapsed": false
   }
  },
  {
   "cell_type": "code",
   "execution_count": 5,
   "metadata": {},
   "outputs": [],
   "source": [
    "from sklearn.neural_network import MLPClassifier\n",
    "from sklearn.model_selection import train_test_split\n",
    "from sklearn.metrics import accuracy_score, classification_report"
   ]
  },
  {
   "cell_type": "code",
   "execution_count": 6,
   "metadata": {},
   "outputs": [],
   "source": [
    "from src.metrics import cluster_evaluate, GGMetrics\n",
    "from src.datasets import get_blobs, get_breast_cancer_coimbra, get_australian_credit"
   ]
  },
  {
   "cell_type": "markdown",
   "metadata": {},
   "source": [
    "# Evaluate Overfit Behavior"
   ]
  },
  {
   "cell_type": "code",
   "execution_count": 7,
   "outputs": [],
   "source": [
    "@dataclass\n",
    "class ModelResults:\n",
    "    X_train: pd.DataFrame\n",
    "    X_test: pd.DataFrame\n",
    "    y_train: pd.Series\n",
    "    y_test: pd.Series\n",
    "    model: MLPClassifier\n",
    "    hidden_layer_sizes: tuple\n",
    "    reg_alpha: float\n",
    "    projection: np.array\n",
    "    pred_train: np.array\n",
    "    pred_test: np.array"
   ],
   "metadata": {
    "collapsed": false
   }
  },
  {
   "cell_type": "code",
   "execution_count": 8,
   "outputs": [],
   "source": [
    "def exec_nn(data: pd.DataFrame, target: pd.Series, hidden_layer_sizes: tuple, reg_alpha: float):\n",
    "    X_train, X_test, y_train, y_test = train_test_split(\n",
    "        data.values, target.values,\n",
    "        stratify=target, test_size=.3\n",
    "    )\n",
    "\n",
    "    model = MLPClassifier(\n",
    "        hidden_layer_sizes=hidden_layer_sizes, activation=\"tanh\", solver=\"adam\",\n",
    "        alpha=reg_alpha, beta_1=0.9, beta_2=0.999,\n",
    "        max_iter=256,\n",
    "        verbose=False, shuffle=False,\n",
    "        early_stopping=False, validation_fraction=0.1,\n",
    "        n_iter_no_change=512, tol=1e-6,\n",
    "        epsilon=1e-8, learning_rate=\"constant\",\n",
    "    )\n",
    "\n",
    "    model.fit(X_train, y_train)\n",
    "\n",
    "    def feed_forward(a, b):\n",
    "        a = np.hstack([np.ones((a.shape[0], 1)), a])\n",
    "        return np.tanh(a @ b)\n",
    "\n",
    "    coefs = [np.vstack([a.reshape(1, -1), b]) for a, b in zip(model.intercepts_[:-1], model.coefs_[:-1])]\n",
    "    projection = reduce(feed_forward, [X_train] + coefs)\n",
    "\n",
    "    return ModelResults(\n",
    "        X_train=X_train, X_test=X_test, y_train=y_train, y_test=y_test,\n",
    "        model=model,\n",
    "        hidden_layer_sizes=hidden_layer_sizes, reg_alpha=reg_alpha,\n",
    "        projection=projection,\n",
    "        pred_train=model.predict(X_train), pred_test=model.predict(X_test),\n",
    "    )"
   ],
   "metadata": {
    "collapsed": false
   }
  },
  {
   "cell_type": "markdown",
   "source": [
    "## Increasing Regularization Hyperparmeter"
   ],
   "metadata": {
    "collapsed": false
   }
  },
  {
   "cell_type": "code",
   "execution_count": null,
   "metadata": {},
   "outputs": [],
   "source": [
    "alphas = np.logspace(0, 1, 100)\n",
    "results = list()\n",
    "with warnings.catch_warnings():\n",
    "    warnings.simplefilter(\"ignore\")\n",
    "\n",
    "    for alpha in tqdm(alphas):\n",
    "        res = exec_nn(\n",
    "            *get_breast_cancer_coimbra(),\n",
    "            hidden_layer_sizes=(128, 128, 128, 128, 128), reg_alpha=alpha,\n",
    "        )\n",
    "        results.append(dict(\n",
    "            {\n",
    "                \"alpha\": alpha,\n",
    "                \"acc_train\": accuracy_score(y_pred=res.pred_train, y_true=res.y_train),\n",
    "                \"acc_test\": accuracy_score(y_pred=res.pred_test, y_true=res.y_test),\n",
    "                \"best_loss\": res.model.best_loss_,\n",
    "                \"iterations\": res.model.n_iter_\n",
    "            },\n",
    "            **cluster_evaluate(X=res.projection, labels=res.y_train),\n",
    "            **{f\"orig_{k}\": v for k, v in cluster_evaluate(X=res.X_train, labels=res.y_train).items()}\n",
    "        ))"
   ]
  },
  {
   "cell_type": "code",
   "execution_count": null,
   "metadata": {},
   "outputs": [],
   "source": [
    "df = pd.DataFrame(results)"
   ]
  },
  {
   "cell_type": "code",
   "execution_count": null,
   "outputs": [],
   "source": [
    "df[[\"alpha\", \"gg_neigh_index\", \"gg_border_perc\", \"sil_neg_samples_score\", \"silhouette_score\"]].corr()[\"alpha\"]"
   ],
   "metadata": {
    "collapsed": false
   }
  },
  {
   "cell_type": "code",
   "execution_count": null,
   "metadata": {},
   "outputs": [],
   "source": [
    "fig, ax = plt.subplots(1, 4, figsize=(8, 3))\n",
    "\n",
    "df.plot.scatter(x=\"alpha\", y=\"gg_neigh_index\", ax=ax[0])\n",
    "ax[0].set_xscale(\"log\")\n",
    "\n",
    "df.plot.scatter(x=\"alpha\", y=\"gg_border_perc\", ax=ax[1])\n",
    "ax[1].set_xscale(\"log\")\n",
    "\n",
    "df.plot.scatter(x=\"alpha\", y=\"sil_neg_samples_score\", ax=ax[2])\n",
    "ax[2].set_xscale(\"log\")\n",
    "\n",
    "df.plot.scatter(x=\"alpha\", y=\"silhouette_score\", ax=ax[3])\n",
    "ax[3].set_xscale(\"log\")\n",
    "\n",
    "plt.tight_layout()\n",
    "plt.show()\n",
    "plt.close()"
   ]
  },
  {
   "cell_type": "markdown",
   "source": [
    "## Visualize"
   ],
   "metadata": {
    "collapsed": false
   }
  },
  {
   "cell_type": "code",
   "execution_count": 25,
   "outputs": [],
   "source": [
    "blobs = get_australian_credit()\n",
    "hidden_layer_sizes = (256, 128, 64, 32, 16, 8, 2)"
   ],
   "metadata": {
    "collapsed": false
   }
  },
  {
   "cell_type": "code",
   "execution_count": 26,
   "metadata": {},
   "outputs": [],
   "source": [
    "with warnings.catch_warnings():\n",
    "    warnings.simplefilter(\"ignore\")\n",
    "    res_overfit = exec_nn(\n",
    "        *blobs,\n",
    "        hidden_layer_sizes=hidden_layer_sizes, reg_alpha=1e0,\n",
    "    )"
   ]
  },
  {
   "cell_type": "code",
   "execution_count": 29,
   "outputs": [
    {
     "name": "stdout",
     "output_type": "stream",
     "text": [
      "              precision    recall  f1-score   support\n",
      "\n",
      "          -1       0.95      0.91      0.93       268\n",
      "           1       0.89      0.94      0.92       215\n",
      "\n",
      "    accuracy                           0.92       483\n",
      "   macro avg       0.92      0.93      0.92       483\n",
      "weighted avg       0.93      0.92      0.92       483\n",
      "\n"
     ]
    }
   ],
   "source": [
    "print(classification_report(y_true=res_overfit.y_train, y_pred=res_overfit.pred_train))"
   ],
   "metadata": {
    "collapsed": false
   }
  },
  {
   "cell_type": "code",
   "execution_count": 30,
   "outputs": [
    {
     "name": "stdout",
     "output_type": "stream",
     "text": [
      "              precision    recall  f1-score   support\n",
      "\n",
      "          -1       0.83      0.88      0.85       115\n",
      "           1       0.84      0.77      0.80        92\n",
      "\n",
      "    accuracy                           0.83       207\n",
      "   macro avg       0.83      0.82      0.83       207\n",
      "weighted avg       0.83      0.83      0.83       207\n",
      "\n"
     ]
    }
   ],
   "source": [
    "print(classification_report(y_true=res_overfit.y_test, y_pred=res_overfit.pred_test))"
   ],
   "metadata": {
    "collapsed": false
   }
  },
  {
   "cell_type": "code",
   "execution_count": 31,
   "metadata": {},
   "outputs": [
    {
     "data": {
      "text/plain": "<Figure size 1000x300 with 2 Axes>",
      "image/png": "[encoded data removed]"
     },
     "metadata": {},
     "output_type": "display_data"
    }
   ],
   "source": [
    "sel_c0 = np.where(res_overfit.y_train > 0)\n",
    "sel_c1 = np.where(res_overfit.y_train < 0)\n",
    "\n",
    "_, ax = plt.subplots(1, 2, figsize=(10, 3), sharex=\"all\", sharey=\"all\")\n",
    "\n",
    "ax[0].scatter(res_overfit.projection[sel_c0, 0], res_overfit.projection[sel_c0, 1], color=\"red\", alpha=.3)\n",
    "ax[1].scatter(res_overfit.projection[sel_c1, 0], res_overfit.projection[sel_c1, 1], color=\"blue\", alpha=.3)\n",
    "\n",
    "plt.tight_layout()\n",
    "plt.savefig(\"proj-overfit.png\")"
   ]
  },
  {
   "cell_type": "code",
   "execution_count": 32,
   "outputs": [],
   "source": [
    "with warnings.catch_warnings():\n",
    "    warnings.simplefilter(\"ignore\")\n",
    "    res_rightfit = exec_nn(\n",
    "        *blobs,\n",
    "        hidden_layer_sizes=hidden_layer_sizes, reg_alpha=1e1,\n",
    "    )"
   ],
   "metadata": {
    "collapsed": false
   }
  },
  {
   "cell_type": "code",
   "execution_count": 33,
   "outputs": [
    {
     "name": "stdout",
     "output_type": "stream",
     "text": [
      "              precision    recall  f1-score   support\n",
      "\n",
      "          -1       0.91      0.89      0.90       268\n",
      "           1       0.86      0.89      0.88       215\n",
      "\n",
      "    accuracy                           0.89       483\n",
      "   macro avg       0.89      0.89      0.89       483\n",
      "weighted avg       0.89      0.89      0.89       483\n",
      "\n"
     ]
    }
   ],
   "source": [
    "print(classification_report(y_true=res_rightfit.y_train, y_pred=res_rightfit.pred_train))"
   ],
   "metadata": {
    "collapsed": false
   }
  },
  {
   "cell_type": "code",
   "execution_count": 34,
   "outputs": [
    {
     "name": "stdout",
     "output_type": "stream",
     "text": [
      "              precision    recall  f1-score   support\n",
      "\n",
      "          -1       0.85      0.86      0.86       115\n",
      "           1       0.82      0.82      0.82        92\n",
      "\n",
      "    accuracy                           0.84       207\n",
      "   macro avg       0.84      0.84      0.84       207\n",
      "weighted avg       0.84      0.84      0.84       207\n",
      "\n"
     ]
    }
   ],
   "source": [
    "print(classification_report(y_true=res_rightfit.y_test, y_pred=res_rightfit.pred_test))"
   ],
   "metadata": {
    "collapsed": false
   }
  },
  {
   "cell_type": "code",
   "execution_count": 35,
   "outputs": [
    {
     "data": {
      "text/plain": "<Figure size 1000x300 with 2 Axes>",
      "image/png": "[encoded data removed]"
     },
     "metadata": {},
     "output_type": "display_data"
    }
   ],
   "source": [
    "sel_c0 = np.where(res_rightfit.y_train > 0)\n",
    "sel_c1 = np.where(res_rightfit.y_train < 0)\n",
    "\n",
    "_, ax = plt.subplots(1, 2, figsize=(10, 3), sharex=\"all\", sharey=\"all\")\n",
    "\n",
    "ax[0].scatter(res_rightfit.projection[sel_c0, 0], res_rightfit.projection[sel_c0, 1], color=\"red\", alpha=.3)\n",
    "ax[1].scatter(res_rightfit.projection[sel_c1, 0], res_rightfit.projection[sel_c1, 1], color=\"blue\", alpha=.3)\n",
    "\n",
    "plt.tight_layout()\n",
    "plt.savefig(\"proj-rightfit.png\")"
   ],
   "metadata": {
    "collapsed": false
   }
  },
  {
   "cell_type": "markdown",
   "metadata": {},
   "source": [
    "---"
   ]
  }
 ],
 "metadata": {
  "kernelspec": {
   "display_name": "Python 3.9.14 ('.venv': poetry)",
   "language": "python",
   "name": "python3"
  },
  "language_info": {
   "codemirror_mode": {
    "name": "ipython",
    "version": 3
   },
   "file_extension": ".py",
   "mimetype": "text/x-python",
   "name": "python",
   "nbconvert_exporter": "python",
   "pygments_lexer": "ipython3",
   "version": "3.9.14"
  },
  "orig_nbformat": 4,
  "vscode": {
   "interpreter": {
    "hash": "5aaa17ceaad73b17e34098533828f17edc35a2441ebc374a71d3291ab1f65c24"
   }
  }
 },
 "nbformat": 4,
 "nbformat_minor": 2
}
