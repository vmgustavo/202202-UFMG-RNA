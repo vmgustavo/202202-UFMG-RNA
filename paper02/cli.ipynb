{
 "cells": [
  {
   "cell_type": "code",
   "execution_count": null,
   "metadata": {
    "collapsed": true
   },
   "outputs": [],
   "source": [
    "import os\n",
    "import json\n",
    "import logging\n",
    "import hashlib\n",
    "import warnings\n",
    "from time import time\n",
    "from functools import reduce\n",
    "from dataclasses import dataclass"
   ]
  },
  {
   "cell_type": "code",
   "execution_count": null,
   "outputs": [],
   "source": [
    "import click\n",
    "import numpy as np\n",
    "import pandas as pd\n",
    "from sklearn.metrics import accuracy_score\n",
    "from sklearn.neural_network import MLPClassifier\n",
    "from sklearn.model_selection import train_test_split"
   ],
   "metadata": {
    "collapsed": false
   }
  },
  {
   "cell_type": "code",
   "execution_count": null,
   "outputs": [],
   "source": [
    "from src.datasets import alldts\n",
    "from src.metrics import cluster_evaluate"
   ],
   "metadata": {
    "collapsed": false
   }
  },
  {
   "cell_type": "code",
   "execution_count": null,
   "outputs": [],
   "source": [
    "logging.basicConfig(\n",
    "    format='%(asctime)s | %(levelname)-8s | %(name)s | %(message)s',\n",
    "    datefmt='%Y-%m-%d %H:%M:%S',\n",
    "    level=logging.INFO\n",
    ")\n",
    "\n",
    "warnings.filterwarnings(\"ignore\")\n",
    "\n",
    "logger = logging.getLogger(__name__)"
   ],
   "metadata": {
    "collapsed": false
   }
  },
  {
   "cell_type": "code",
   "execution_count": null,
   "outputs": [],
   "source": [
    "def repeat(n):\n",
    "    for _ in range(n):\n",
    "        executor()"
   ],
   "metadata": {
    "collapsed": false
   }
  },
  {
   "cell_type": "code",
   "execution_count": null,
   "outputs": [],
   "source": [
    "@dataclass\n",
    "class ModelResults:\n",
    "    X_train: pd.DataFrame\n",
    "    X_test: pd.DataFrame\n",
    "    y_train: pd.Series\n",
    "    y_test: pd.Series\n",
    "    model: MLPClassifier\n",
    "    hidden_layer_sizes: tuple\n",
    "    reg_alpha: float\n",
    "    projection: np.array\n",
    "    pred_train: np.array\n",
    "    pred_test: np.array"
   ],
   "metadata": {
    "collapsed": false
   }
  },
  {
   "cell_type": "code",
   "execution_count": null,
   "outputs": [],
   "source": [
    "def exec_nn(data: pd.DataFrame, target: pd.Series, hidden_layer_sizes: tuple, reg_alpha: float):\n",
    "    X_train, X_test, y_train, y_test = train_test_split(\n",
    "        data.values, target.values,\n",
    "        stratify=target, test_size=.3\n",
    "    )\n",
    "\n",
    "    model = MLPClassifier(\n",
    "        hidden_layer_sizes=hidden_layer_sizes, activation=\"tanh\", solver=\"adam\",\n",
    "        alpha=reg_alpha, beta_1=0.9, beta_2=0.999,\n",
    "        max_iter=256,\n",
    "        verbose=False, shuffle=False,\n",
    "        early_stopping=False, validation_fraction=0.1,\n",
    "        n_iter_no_change=512, tol=1e-6,\n",
    "        epsilon=1e-8, learning_rate=\"constant\",\n",
    "    )\n",
    "\n",
    "    model.fit(X_train, y_train)\n",
    "\n",
    "    def feed_forward(a, b):\n",
    "        a = np.hstack([np.ones((a.shape[0], 1)), a])\n",
    "        return np.tanh(a @ b)\n",
    "\n",
    "    coefs = [np.vstack([a.reshape(1, -1), b]) for a, b in zip(model.intercepts_[:-1], model.coefs_[:-1])]\n",
    "    projection = reduce(feed_forward, [X_train] + coefs)\n",
    "\n",
    "    return ModelResults(\n",
    "        X_train=X_train, X_test=X_test, y_train=y_train, y_test=y_test,\n",
    "        model=model,\n",
    "        hidden_layer_sizes=hidden_layer_sizes, reg_alpha=reg_alpha,\n",
    "        projection=projection,\n",
    "        pred_train=model.predict(X_train), pred_test=model.predict(X_test),\n",
    "    )"
   ],
   "metadata": {
    "collapsed": false
   }
  },
  {
   "cell_type": "code",
   "execution_count": null,
   "outputs": [],
   "source": [
    "def executor():\n",
    "    selection = {\n",
    "        \"cred_aus\", \"cred_ger\",\n",
    "        \"breast_coimbra\", \"sonar\", \"heart\",\n",
    "        \"synth_linear\", \"synth_blobs\", \"synth_moons\",\n",
    "    }\n",
    "    datasets = [(k, v) for k, v in alldts().items() if k in selection]\n",
    "    alphas = np.logspace(0, 1, 100)\n",
    "\n",
    "    for dataset_name, (data, target) in datasets:\n",
    "        for alpha in alphas:\n",
    "            logging.info(f\"dataset: {dataset_name:>15} | alpha: {alpha:02.02f}\")\n",
    "            res = exec_nn(\n",
    "                data, target,\n",
    "                hidden_layer_sizes=(128, 128, 128, 128, 128), reg_alpha=alpha,\n",
    "            )\n",
    "\n",
    "            results = dict(\n",
    "                {\n",
    "                    \"alpha\": alpha,\n",
    "                    \"acc_train\": accuracy_score(y_pred=res.pred_train, y_true=res.y_train),\n",
    "                    \"acc_test\": accuracy_score(y_pred=res.pred_test, y_true=res.y_test),\n",
    "                    \"best_loss\": res.model.best_loss_,\n",
    "                    \"iterations\": res.model.n_iter_\n",
    "                },\n",
    "                **cluster_evaluate(X=res.projection, labels=res.y_train),\n",
    "                **{f\"orig_{k}\": v for k, v in cluster_evaluate(X=res.X_train, labels=res.y_train).items()}\n",
    "            )\n",
    "\n",
    "            if not os.path.exists(\"results\"):\n",
    "                os.mkdir(\"results\")\n",
    "\n",
    "            fname = str(time()) + str(alpha) + dataset_name\n",
    "            with open(f\"results/{hashlib.sha256(fname.encode()).hexdigest()}.json\", \"w\") as f:\n",
    "                json.dump(results, f, indent=2)"
   ],
   "metadata": {
    "collapsed": false
   }
  },
  {
   "cell_type": "code",
   "execution_count": null,
   "outputs": [],
   "source": [
    "n = 1\n",
    "for _ in range(n):\n",
    "    executor()"
   ],
   "metadata": {
    "collapsed": false
   }
  },
  {
   "cell_type": "markdown",
   "source": [
    "---"
   ],
   "metadata": {
    "collapsed": false
   }
  }
 ],
 "metadata": {
  "kernelspec": {
   "display_name": "Python 3",
   "language": "python",
   "name": "python3"
  },
  "language_info": {
   "codemirror_mode": {
    "name": "ipython",
    "version": 2
   },
   "file_extension": ".py",
   "mimetype": "text/x-python",
   "name": "python",
   "nbconvert_exporter": "python",
   "pygments_lexer": "ipython2",
   "version": "2.7.6"
  }
 },
 "nbformat": 4,
 "nbformat_minor": 0
}
