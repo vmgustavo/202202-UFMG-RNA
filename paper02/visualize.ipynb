{
 "cells": [
  {
   "cell_type": "code",
   "execution_count": null,
   "metadata": {},
   "outputs": [],
   "source": [
    "import json\n",
    "from glob import glob\n",
    "\n",
    "import pandas as pd\n",
    "import numpy as np\n",
    "import matplotlib.pyplot as plt"
   ]
  },
  {
   "cell_type": "code",
   "execution_count": null,
   "metadata": {},
   "outputs": [],
   "source": [
    "from sklearn.datasets import make_circles"
   ]
  },
  {
   "cell_type": "markdown",
   "metadata": {},
   "source": [
    "# Circles Example"
   ]
  },
  {
   "cell_type": "code",
   "execution_count": null,
   "metadata": {},
   "outputs": [],
   "source": [
    "data, target = make_circles(n_samples=500, noise=.05, factor=.5)"
   ]
  },
  {
   "cell_type": "code",
   "execution_count": null,
   "metadata": {},
   "outputs": [],
   "source": [
    "color = [[\"red\", \"blue\"][elem] for elem in target]"
   ]
  },
  {
   "cell_type": "code",
   "execution_count": null,
   "metadata": {},
   "outputs": [],
   "source": [
    "fig, ax = plt.subplots(1, 2, figsize=(5, 2), dpi=300)\n",
    "ax[0].scatter(data[:, 0], data[:, 1], color=color, alpha=.3, s=10)\n",
    "ax[1].scatter(data[:, 0]**2, data[:, 1]**2, color=color, alpha=.3, s=10)\n",
    "\n",
    "ax[0].set_yticks([])\n",
    "ax[0].set_xticks([])\n",
    "ax[1].set_yticks([])\n",
    "ax[1].set_xticks([])\n",
    "\n",
    "ax[0].set_xlabel(\"$X_1$\")\n",
    "ax[0].set_ylabel(\"$X_2$\")\n",
    "\n",
    "ax[1].set_xlabel(\"$X_1^2$\")\n",
    "ax[1].set_ylabel(\"$X_2^2$\")\n",
    "\n",
    "plt.tight_layout()\n",
    "plt.savefig(\"circles.pdf\")"
   ]
  },
  {
   "cell_type": "markdown",
   "metadata": {},
   "source": [
    "# Default Metrics"
   ]
  },
  {
   "cell_type": "code",
   "execution_count": null,
   "metadata": {},
   "outputs": [],
   "source": [
    "from src.datasets import alldts\n",
    "from src.metrics import cluster_evaluate"
   ]
  },
  {
   "cell_type": "code",
   "execution_count": null,
   "metadata": {},
   "outputs": [],
   "source": [
    "selection = {\"cred_aus\", \"cred_ger\", \"breast_coimbra\", \"sonar\", \"heart\"}\n",
    "datasets = [(k, v) for k, v in alldts().items() if k in selection]"
   ]
  },
  {
   "cell_type": "code",
   "execution_count": null,
   "metadata": {},
   "outputs": [],
   "source": [
    "aux = list()\n",
    "for dataset_name, (data, target) in datasets:\n",
    "    aux.append(dict({\"dataset\": dataset_name}, **cluster_evaluate(data, target)))"
   ]
  },
  {
   "cell_type": "code",
   "execution_count": null,
   "metadata": {},
   "outputs": [],
   "source": [
    "pd.DataFrame(aux)"
   ]
  },
  {
   "cell_type": "markdown",
   "metadata": {},
   "source": [
    "# Results"
   ]
  },
  {
   "cell_type": "code",
   "execution_count": null,
   "metadata": {},
   "outputs": [],
   "source": [
    "files = glob(\"src/results/*.json\")\n",
    "\n",
    "aux = list()\n",
    "for file in files:\n",
    "    with open(file, \"r\") as f:\n",
    "        aux.append(json.load(f))\n",
    "df = pd.json_normalize(aux)"
   ]
  },
  {
   "cell_type": "code",
   "execution_count": null,
   "metadata": {},
   "outputs": [],
   "source": [
    "df[\"acc_diff\"] = (df[\"acc_test\"] - df[\"acc_train\"]).abs()"
   ]
  },
  {
   "cell_type": "code",
   "execution_count": null,
   "metadata": {},
   "outputs": [],
   "source": [
    "colors = {\n",
    "    \"cred_ger\": \"red\",\n",
    "    \"cred_aus\": \"blue\",\n",
    "    \"breast_coimbra\": \"green\",\n",
    "    \"heart\": \"black\",\n",
    "    \"sonar\": \"purple\",\n",
    "}"
   ]
  },
  {
   "cell_type": "code",
   "execution_count": null,
   "metadata": {},
   "outputs": [],
   "source": [
    "import matplotlib.patches as mpatches"
   ]
  },
  {
   "cell_type": "code",
   "execution_count": null,
   "metadata": {},
   "outputs": [],
   "source": [
    "plt.figure(figsize=(6, 3), dpi=300)\n",
    "ax = plt.gca()\n",
    "df.plot.scatter(\n",
    "    x=\"acc_diff\", y=\"sil_neg_samples_score\",\n",
    "    c=df[\"dataset\"].apply(lambda x: colors[x]),\n",
    "    alpha=.5, ax=ax\n",
    ")\n",
    "\n",
    "plt.legend(handles=[mpatches.Patch(color=v, label=k) for k, v in colors.items()])\n",
    "plt.tight_layout()\n",
    "plt.savefig(\"silneg.pdf\")"
   ]
  },
  {
   "cell_type": "code",
   "execution_count": null,
   "metadata": {},
   "outputs": [],
   "source": [
    "df.corr(numeric_only=True)"
   ]
  },
  {
   "cell_type": "code",
   "execution_count": null,
   "metadata": {},
   "outputs": [],
   "source": [
    "aux = list()\n",
    "for name, group in df.groupby(\"dataset\"):\n",
    "    group[\"acc_diff\"] = group[\"acc_test\"] - group[\"acc_train\"]\n",
    "    for metric in [\"silhouette_score\", \"sil_neg_samples_score\", \"calinski_harabasz_score\", \"davies_bouldin_score\"]:\n",
    "        aux.append({\n",
    "            \"dataset\": name,\n",
    "            \"metric\": metric,\n",
    "            \"coefs\": {\n",
    "                \"acc_test\": np.poly1d(np.polyfit(group[\"acc_test\"], group[metric], 1)).coef[0],\n",
    "                \"acc_diff\": np.poly1d(np.polyfit(group[\"acc_diff\"], group[metric], 1)).coef[0],\n",
    "                \"alpha\": np.poly1d(np.polyfit(group[\"alpha\"], group[metric], 1)).coef[0],\n",
    "                \"best_loss\": np.poly1d(np.polyfit(group[\"best_loss\"], group[metric], 1)).coef[0],\n",
    "            }\n",
    "        })"
   ]
  },
  {
   "cell_type": "code",
   "execution_count": null,
   "metadata": {},
   "outputs": [],
   "source": [
    "(\n",
    "    pd.json_normalize(aux)\n",
    "    .pivot(\n",
    "        index=\"metric\", columns=\"dataset\",\n",
    "        values=[\n",
    "            \"coefs.acc_test\",\n",
    "            \"coefs.acc_diff\",\n",
    "            \"coefs.alpha\",\n",
    "            \"coefs.best_loss\",\n",
    "        ]\n",
    "    )\n",
    ")"
   ]
  },
  {
   "cell_type": "code",
   "execution_count": null,
   "metadata": {},
   "outputs": [],
   "source": [
    "for name, group in df.groupby([\"dataset\", \"alpha\"], as_index=False).mean().groupby(\"dataset\"):\n",
    "    x = group[\"alpha\"]\n",
    "    poly_train = np.poly1d(np.polyfit(group[\"alpha\"], group[\"acc_train\"], 1))\n",
    "    poly_test = np.poly1d(np.polyfit(group[\"alpha\"], group[\"acc_test\"], 1))\n",
    "\n",
    "    plt.figure(figsize=(5, 2))\n",
    "    ax = plt.gca()\n",
    "    plt.plot(x, poly_train(x), label=\"train\", color=\"blue\")\n",
    "    plt.plot(x, poly_test(x), label=\"test\", color=\"red\")\n",
    "    plt.scatter(x, group[\"acc_train\"], color=\"blue\", alpha=.3)\n",
    "    plt.scatter(x, group[\"acc_test\"], color=\"red\", alpha=.3)\n",
    "    plt.legend()\n",
    "    plt.title(name)\n",
    "    plt.tight_layout()\n",
    "    plt.show()\n",
    "    plt.close()"
   ]
  },
  {
   "cell_type": "markdown",
   "metadata": {},
   "source": [
    "---"
   ]
  }
 ],
 "metadata": {
  "kernelspec": {
   "display_name": "Python 3.9.14 ('.venv': poetry)",
   "language": "python",
   "name": "python3"
  },
  "language_info": {
   "codemirror_mode": {
    "name": "ipython",
    "version": 3
   },
   "file_extension": ".py",
   "mimetype": "text/x-python",
   "name": "python",
   "nbconvert_exporter": "python",
   "pygments_lexer": "ipython3",
   "version": "3.9.14"
  },
  "orig_nbformat": 4,
  "vscode": {
   "interpreter": {
    "hash": "5aaa17ceaad73b17e34098533828f17edc35a2441ebc374a71d3291ab1f65c24"
   }
  }
 },
 "nbformat": 4,
 "nbformat_minor": 2
}
