{
 "cells": [
  {
   "cell_type": "code",
   "execution_count": null,
   "metadata": {},
   "outputs": [],
   "source": [
    "import pandas as pd\n",
    "import numpy as np"
   ]
  },
  {
   "cell_type": "code",
   "execution_count": null,
   "outputs": [],
   "source": [
    "import seaborn as sns\n",
    "import matplotlib.pyplot as plt\n",
    "plt.style.use(\"grayscale\")"
   ],
   "metadata": {
    "collapsed": false
   }
  },
  {
   "cell_type": "code",
   "execution_count": null,
   "metadata": {},
   "outputs": [],
   "source": [
    "from sklearn.datasets import make_circles"
   ]
  },
  {
   "cell_type": "markdown",
   "metadata": {},
   "source": [
    "# Circles Example"
   ]
  },
  {
   "cell_type": "code",
   "execution_count": null,
   "metadata": {},
   "outputs": [],
   "source": [
    "data, target = make_circles(n_samples=500, noise=.05, factor=.5)"
   ]
  },
  {
   "cell_type": "code",
   "execution_count": null,
   "metadata": {},
   "outputs": [],
   "source": [
    "fig, ax = plt.subplots(1, 2, figsize=(5, 2), dpi=300)\n",
    "\n",
    "c0 = data[np.where(target > 0)]\n",
    "c1 = data[np.where(~(target > 0))]\n",
    "\n",
    "ax[0].scatter(c0[:, 0], c0[:, 1], alpha=.3, s=10, edgecolors=\"black\")\n",
    "ax[0].scatter(c1[:, 0], c1[:, 1], alpha=.3, s=10, edgecolors=\"white\")\n",
    "\n",
    "ax[1].scatter(c0[:, 0]**2, c0[:, 1]**2, alpha=.3, s=10, edgecolors=\"black\")\n",
    "ax[1].scatter(c1[:, 0]**2, c1[:, 1]**2, alpha=.3, s=10, edgecolors=\"white\")\n",
    "\n",
    "ax[0].set_yticks([])\n",
    "ax[0].set_xticks([])\n",
    "ax[1].set_yticks([])\n",
    "ax[1].set_xticks([])\n",
    "\n",
    "ax[0].set_xlabel(\"$X_1$\")\n",
    "ax[0].set_ylabel(\"$X_2$\")\n",
    "\n",
    "ax[1].set_xlabel(\"$X_1^2$\")\n",
    "ax[1].set_ylabel(\"$X_2^2$\")\n",
    "\n",
    "plt.tight_layout()\n",
    "plt.savefig(\"circles.pdf\")"
   ]
  },
  {
   "cell_type": "markdown",
   "metadata": {},
   "source": [
    "# Results"
   ]
  },
  {
   "cell_type": "code",
   "execution_count": null,
   "metadata": {},
   "outputs": [],
   "source": [
    "df = pd.read_csv(\"results.csv\").iloc[:, 1:]\n",
    "df.head()"
   ]
  },
  {
   "cell_type": "code",
   "execution_count": null,
   "metadata": {},
   "outputs": [],
   "source": [
    "df[\"acc_diff\"] = (df[\"acc_test\"] - df[\"acc_train\"]).abs()"
   ]
  },
  {
   "cell_type": "code",
   "execution_count": null,
   "outputs": [],
   "source": [
    "df[\"dataset\"].unique()"
   ],
   "metadata": {
    "collapsed": false
   }
  },
  {
   "cell_type": "code",
   "execution_count": null,
   "outputs": [],
   "source": [
    "df.columns"
   ],
   "metadata": {
    "collapsed": false
   }
  },
  {
   "cell_type": "code",
   "execution_count": null,
   "outputs": [],
   "source": [
    "sns.lmplot(\n",
    "    data=df, x=\"alpha\", y=\"best_loss\", col=\"dataset\",\n",
    "    col_wrap=4, palette=\"muted\", ci=None,\n",
    "    height=2, scatter_kws={\"s\": 10, \"alpha\": .3},\n",
    ")\n",
    "plt.xscale(\"log\")"
   ],
   "metadata": {
    "collapsed": false
   }
  },
  {
   "cell_type": "code",
   "execution_count": null,
   "outputs": [],
   "source": [
    "sns.lmplot(\n",
    "    data=df, x=\"alpha\", y=\"gg_border_perc\", col=\"dataset\",\n",
    "    col_wrap=4, palette=\"muted\", ci=None,\n",
    "    height=2, scatter_kws={\"s\": 10, \"alpha\": .3},\n",
    ")\n",
    "plt.xscale(\"log\")"
   ],
   "metadata": {
    "collapsed": false
   }
  },
  {
   "cell_type": "code",
   "execution_count": null,
   "metadata": {},
   "outputs": [],
   "source": [
    "metrics = [\n",
    "    \"silhouette_score\", \"sil_neg_samples_score\",\n",
    "    \"calinski_harabasz_score\", \"davies_bouldin_score\",\n",
    "    \"gg_neigh_index\", \"gg_border_perc\",\n",
    "]"
   ]
  },
  {
   "cell_type": "code",
   "execution_count": null,
   "metadata": {},
   "outputs": [],
   "source": [
    "aux = list()\n",
    "for cdt in df[\"dataset\"].unique():\n",
    "    aux.append(\n",
    "        df[df[\"dataset\"] == cdt]\n",
    "        .corr(numeric_only=True)\n",
    "        [[\"alpha\"]]\n",
    "        .loc[metrics]\n",
    "        .reset_index()\n",
    "        .rename(columns={\"index\": \"metrics\"})\n",
    "        .assign(dataset=cdt)\n",
    "    )\n",
    "corrs = pd.concat(aux)"
   ]
  },
  {
   "cell_type": "code",
   "execution_count": null,
   "outputs": [],
   "source": [
    "corrs.pivot(columns=\"dataset\", index=\"metrics\", values=\"alpha\")"
   ],
   "metadata": {
    "collapsed": false
   }
  },
  {
   "cell_type": "code",
   "execution_count": null,
   "outputs": [],
   "source": [
    "df.corr(numeric_only=True)[[\"alpha\"]].loc[metrics]"
   ],
   "metadata": {
    "collapsed": false
   }
  },
  {
   "cell_type": "markdown",
   "metadata": {},
   "source": [
    "---"
   ]
  }
 ],
 "metadata": {
  "kernelspec": {
   "display_name": "Python 3.9.14 ('.venv': poetry)",
   "language": "python",
   "name": "python3"
  },
  "language_info": {
   "codemirror_mode": {
    "name": "ipython",
    "version": 3
   },
   "file_extension": ".py",
   "mimetype": "text/x-python",
   "name": "python",
   "nbconvert_exporter": "python",
   "pygments_lexer": "ipython3",
   "version": "3.9.14"
  },
  "orig_nbformat": 4,
  "vscode": {
   "interpreter": {
    "hash": "5aaa17ceaad73b17e34098533828f17edc35a2441ebc374a71d3291ab1f65c24"
   }
  }
 },
 "nbformat": 4,
 "nbformat_minor": 2
}
