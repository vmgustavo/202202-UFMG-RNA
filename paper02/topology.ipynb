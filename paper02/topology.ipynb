{
 "cells": [
  {
   "cell_type": "code",
   "execution_count": 1,
   "metadata": {
    "collapsed": true
   },
   "outputs": [],
   "source": [
    "from src.datasets import get_blobs, get_moons, get_heart"
   ]
  },
  {
   "cell_type": "code",
   "execution_count": 2,
   "outputs": [],
   "source": [
    "import matplotlib.pyplot as plt\n",
    "plt.style.use(\"grayscale\")"
   ],
   "metadata": {
    "collapsed": false
   }
  },
  {
   "cell_type": "code",
   "execution_count": 3,
   "outputs": [],
   "source": [
    "from src.metrics import GGMetrics"
   ],
   "metadata": {
    "collapsed": false
   }
  },
  {
   "cell_type": "markdown",
   "source": [
    "---"
   ],
   "metadata": {
    "collapsed": false
   }
  },
  {
   "cell_type": "code",
   "execution_count": 4,
   "outputs": [
    {
     "name": "stdout",
     "output_type": "stream",
     "text": [
      "0.7929834759424603\n"
     ]
    },
    {
     "data": {
      "text/plain": "                 quality\ntarget quality          \n-1.0   border        382\n       isolated       56\n       normal        586\n 1.0   border        393\n       isolated       58\n       normal        573",
      "text/html": "<div>\n<style scoped>\n    .dataframe tbody tr th:only-of-type {\n        vertical-align: middle;\n    }\n\n    .dataframe tbody tr th {\n        vertical-align: top;\n    }\n\n    .dataframe thead th {\n        text-align: right;\n    }\n</style>\n<table border=\"1\" class=\"dataframe\">\n  <thead>\n    <tr style=\"text-align: right;\">\n      <th></th>\n      <th></th>\n      <th>quality</th>\n    </tr>\n    <tr>\n      <th>target</th>\n      <th>quality</th>\n      <th></th>\n    </tr>\n  </thead>\n  <tbody>\n    <tr>\n      <th rowspan=\"3\" valign=\"top\">-1.0</th>\n      <th>border</th>\n      <td>382</td>\n    </tr>\n    <tr>\n      <th>isolated</th>\n      <td>56</td>\n    </tr>\n    <tr>\n      <th>normal</th>\n      <td>586</td>\n    </tr>\n    <tr>\n      <th rowspan=\"3\" valign=\"top\">1.0</th>\n      <th>border</th>\n      <td>393</td>\n    </tr>\n    <tr>\n      <th>isolated</th>\n      <td>58</td>\n    </tr>\n    <tr>\n      <th>normal</th>\n      <td>573</td>\n    </tr>\n  </tbody>\n</table>\n</div>"
     },
     "metadata": {},
     "output_type": "display_data"
    }
   ],
   "source": [
    "data, target = get_blobs()\n",
    "ggm = GGMetrics(data, target)\n",
    "print(ggm.gg_neigh_index())\n",
    "display(ggm.gg_class_quality())"
   ],
   "metadata": {
    "collapsed": false
   }
  },
  {
   "cell_type": "code",
   "execution_count": 5,
   "outputs": [
    {
     "name": "stdout",
     "output_type": "stream",
     "text": [
      "0.9497860863095238\n"
     ]
    },
    {
     "data": {
      "text/plain": "                 quality\ntarget quality          \n-1.0   border         93\n       isolated       15\n       normal        916\n 1.0   border        112\n       isolated       11\n       normal        901",
      "text/html": "<div>\n<style scoped>\n    .dataframe tbody tr th:only-of-type {\n        vertical-align: middle;\n    }\n\n    .dataframe tbody tr th {\n        vertical-align: top;\n    }\n\n    .dataframe thead th {\n        text-align: right;\n    }\n</style>\n<table border=\"1\" class=\"dataframe\">\n  <thead>\n    <tr style=\"text-align: right;\">\n      <th></th>\n      <th></th>\n      <th>quality</th>\n    </tr>\n    <tr>\n      <th>target</th>\n      <th>quality</th>\n      <th></th>\n    </tr>\n  </thead>\n  <tbody>\n    <tr>\n      <th rowspan=\"3\" valign=\"top\">-1.0</th>\n      <th>border</th>\n      <td>93</td>\n    </tr>\n    <tr>\n      <th>isolated</th>\n      <td>15</td>\n    </tr>\n    <tr>\n      <th>normal</th>\n      <td>916</td>\n    </tr>\n    <tr>\n      <th rowspan=\"3\" valign=\"top\">1.0</th>\n      <th>border</th>\n      <td>112</td>\n    </tr>\n    <tr>\n      <th>isolated</th>\n      <td>11</td>\n    </tr>\n    <tr>\n      <th>normal</th>\n      <td>901</td>\n    </tr>\n  </tbody>\n</table>\n</div>"
     },
     "metadata": {},
     "output_type": "display_data"
    }
   ],
   "source": [
    "data, target = get_moons()\n",
    "ggm = GGMetrics(data, target)\n",
    "print(ggm.gg_neigh_index())\n",
    "display(ggm.gg_class_quality())"
   ],
   "metadata": {
    "collapsed": false
   }
  },
  {
   "cell_type": "code",
   "execution_count": 6,
   "outputs": [
    {
     "name": "stdout",
     "output_type": "stream",
     "text": [
      "0.6164820284168515\n"
     ]
    },
    {
     "data": {
      "text/plain": "                quality\ntarget quality         \n-1.0   border       150\n 1.0   border       120",
      "text/html": "<div>\n<style scoped>\n    .dataframe tbody tr th:only-of-type {\n        vertical-align: middle;\n    }\n\n    .dataframe tbody tr th {\n        vertical-align: top;\n    }\n\n    .dataframe thead th {\n        text-align: right;\n    }\n</style>\n<table border=\"1\" class=\"dataframe\">\n  <thead>\n    <tr style=\"text-align: right;\">\n      <th></th>\n      <th></th>\n      <th>quality</th>\n    </tr>\n    <tr>\n      <th>target</th>\n      <th>quality</th>\n      <th></th>\n    </tr>\n  </thead>\n  <tbody>\n    <tr>\n      <th>-1.0</th>\n      <th>border</th>\n      <td>150</td>\n    </tr>\n    <tr>\n      <th>1.0</th>\n      <th>border</th>\n      <td>120</td>\n    </tr>\n  </tbody>\n</table>\n</div>"
     },
     "metadata": {},
     "output_type": "display_data"
    }
   ],
   "source": [
    "data, target = get_heart()\n",
    "ggm = GGMetrics(data, target)\n",
    "print(ggm.gg_neigh_index())\n",
    "display(ggm.gg_class_quality())"
   ],
   "metadata": {
    "collapsed": false
   }
  },
  {
   "cell_type": "markdown",
   "source": [
    "---"
   ],
   "metadata": {
    "collapsed": false
   }
  }
 ],
 "metadata": {
  "kernelspec": {
   "display_name": "Python 3",
   "language": "python",
   "name": "python3"
  },
  "language_info": {
   "codemirror_mode": {
    "name": "ipython",
    "version": 2
   },
   "file_extension": ".py",
   "mimetype": "text/x-python",
   "name": "python",
   "nbconvert_exporter": "python",
   "pygments_lexer": "ipython2",
   "version": "2.7.6"
  }
 },
 "nbformat": 4,
 "nbformat_minor": 0
}
