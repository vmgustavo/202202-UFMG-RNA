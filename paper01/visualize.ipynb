{
 "cells": [
  {
   "cell_type": "markdown",
   "metadata": {},
   "source": [
    "# Imports"
   ]
  },
  {
   "cell_type": "code",
   "execution_count": null,
   "metadata": {},
   "outputs": [],
   "source": [
    "from pathlib import Path\n",
    "import json\n",
    "\n",
    "import numpy as np\n",
    "import pandas as pd\n",
    "pd.options.display.max_columns = 512\n",
    "import matplotlib.pyplot as plt"
   ]
  },
  {
   "cell_type": "markdown",
   "metadata": {},
   "source": [
    "# Load data"
   ]
  },
  {
   "cell_type": "code",
   "execution_count": null,
   "metadata": {},
   "outputs": [],
   "source": [
    "results = list()\n",
    "for elem in Path(\"src/results\").glob(\"*.json\"):\n",
    "    with open(elem, \"r\") as f:\n",
    "        results.append(json.load(f))"
   ]
  },
  {
   "cell_type": "code",
   "execution_count": null,
   "metadata": {},
   "outputs": [],
   "source": [
    "df = pd.json_normalize(results)\n",
    "df.shape"
   ]
  },
  {
   "cell_type": "markdown",
   "metadata": {},
   "source": [
    "### Validate number of executions"
   ]
  },
  {
   "cell_type": "code",
   "execution_count": null,
   "metadata": {},
   "outputs": [],
   "source": [
    "(\n",
    "    df\n",
    "    .groupby([\"dataset\", \"model\", \"neurons\"])\n",
    "    .agg({\"neurons\": \"count\"})\n",
    "    .rename(columns={\"neurons\": \"executions\"})\n",
    "    .mean()\n",
    ")"
   ]
  },
  {
   "cell_type": "code",
   "execution_count": null,
   "metadata": {},
   "outputs": [],
   "source": [
    "(\n",
    "    df\n",
    "    .groupby([\"dataset\", \"model\", \"neurons\"], as_index=False)\n",
    "    .agg({\"evaluation.acc_test\": \"mean\"})\n",
    "    .sort_values([\"neurons\", \"model\"])\n",
    "    .pivot(index=\"dataset\", columns=[\"model\", \"neurons\"], values=\"evaluation.acc_test\")\n",
    ")"
   ]
  },
  {
   "cell_type": "markdown",
   "metadata": {},
   "source": [
    "# Plot scatter of all executions"
   ]
  },
  {
   "cell_type": "code",
   "execution_count": null,
   "metadata": {},
   "outputs": [],
   "source": [
    "for name, group in df.groupby([\"dataset\", \"model\"]):\n",
    "    plt.figure(figsize=(5, 2))\n",
    "    ax = plt.gca()\n",
    "    group.plot.scatter(\n",
    "        x=\"neurons\", y=\"evaluation.acc_test\",\n",
    "        color=\"red\", alpha=.5, ax=ax,\n",
    "    )\n",
    "    group.plot.scatter(\n",
    "        x=\"neurons\", y=\"evaluation.acc_train\",\n",
    "        color=\"blue\", alpha=.5, ax=ax,\n",
    "    )\n",
    "    plt.xscale(\"log\")\n",
    "    plt.title(name)\n",
    "    plt.show()\n",
    "    plt.close()"
   ]
  },
  {
   "cell_type": "code",
   "execution_count": null,
   "metadata": {},
   "outputs": [],
   "source": [
    "df[\"evaluation.acc_diff\"] = df[\"evaluation.acc_test\"] - df[\"evaluation.acc_train\"]"
   ]
  },
  {
   "cell_type": "code",
   "execution_count": null,
   "metadata": {},
   "outputs": [],
   "source": [
    "fig, ax = plt.subplots(3, 1, figsize=(4, 3), sharex=True, sharey=True, dpi=300)\n",
    "\n",
    "bins = np.linspace(df[\"evaluation.acc_diff\"].min(), df[\"evaluation.acc_diff\"].max())\n",
    "ax[0].hist(df[df[\"model\"] == \"ELM\"][\"evaluation.acc_diff\"], label=\"ELM\", alpha=.7, bins=bins, color=\"black\")\n",
    "ax[1].hist(df[df[\"model\"] == \"ELMReg\"][\"evaluation.acc_diff\"], label=\"ELM\", alpha=.7, bins=bins, color=\"black\")\n",
    "ax[2].hist(df[df[\"model\"] == \"ELMPCA\"][\"evaluation.acc_diff\"], label=\"ELM\", alpha=.7, bins=bins, color=\"black\")\n",
    "\n",
    "ax[0].set_ylabel(\"ELM\")\n",
    "ax[1].set_ylabel(\"ELMReg\")\n",
    "ax[2].set_ylabel(\"ELMPCA\")\n",
    "\n",
    "ax[0].set_yticks([])\n",
    "ax[1].set_yticks([])\n",
    "ax[2].set_yticks([])\n",
    "\n",
    "plt.tight_layout()\n",
    "plt.savefig(\"hist.pdf\")"
   ]
  },
  {
   "cell_type": "markdown",
   "metadata": {},
   "source": [
    "# Plot average metrics"
   ]
  },
  {
   "cell_type": "code",
   "execution_count": null,
   "metadata": {},
   "outputs": [],
   "source": [
    "means = (\n",
    "    df\n",
    "    .groupby([\"dataset\", \"model\", \"neurons\"], as_index=False)\n",
    "    .agg({\n",
    "        \"evaluation.acc_train\": \"mean\",\n",
    "        \"evaluation.acc_test\": \"mean\",\n",
    "        \"evaluation.time_to_fit\": \"mean\",\n",
    "    })\n",
    ")\n",
    "\n",
    "means[\"evaluation.acc_diff\"] = means[\"evaluation.acc_test\"] - means[\"evaluation.acc_train\"]"
   ]
  },
  {
   "cell_type": "code",
   "execution_count": null,
   "metadata": {},
   "outputs": [],
   "source": [
    "fig, ax = plt.subplots(1, 3, figsize=(10, 2), dpi=300, sharex=True, sharey=True)\n",
    "\n",
    "for i, dataset in enumerate([\"synth_linear\", \"synth_blobs\", \"synth_moons\"]):\n",
    "    for (model, color) in [(\"ELM\", \"#000000\"), (\"ELMReg\", \"#777777\"), (\"ELMPCA\", \"#FFFFFF\")]:\n",
    "        aux = means[\n",
    "            (means[\"dataset\"] == dataset)\n",
    "            & (means[\"model\"] == model)\n",
    "        ]\n",
    "\n",
    "        aux.plot.scatter(x=\"neurons\", y=\"evaluation.acc_diff\", color=color, edgecolors=\"black\", ax=ax[i], s=40, label=model)\n",
    "        ax[i].grid(alpha=.3)\n",
    "        ax[i].get_legend().remove()\n",
    "\n",
    "ax[0].legend()\n",
    "plt.xscale(\"log\")\n",
    "plt.tight_layout()\n",
    "plt.savefig(\"metrics.pdf\")"
   ]
  },
  {
   "cell_type": "markdown",
   "metadata": {},
   "source": [
    "# Pivot metrics"
   ]
  },
  {
   "cell_type": "code",
   "execution_count": null,
   "metadata": {},
   "outputs": [],
   "source": [
    "print(means[means[\"neurons\"] == 1024].round(3)[[\n",
    "    \"dataset\", \"model\",\n",
    "    \"evaluation.acc_train\", \"evaluation.acc_test\", \"evaluation.acc_diff\", \"evaluation.time_to_fit\"\n",
    "]].to_latex())"
   ]
  },
  {
   "cell_type": "code",
   "execution_count": null,
   "metadata": {},
   "outputs": [],
   "source": [
    "means[means[\"neurons\"] == 32].round(3)[[\n",
    "    \"dataset\", \"model\",\n",
    "    \"evaluation.acc_train\", \"evaluation.acc_test\", \"evaluation.acc_diff\", \"evaluation.time_to_fit\"\n",
    "]]"
   ]
  },
  {
   "cell_type": "code",
   "execution_count": null,
   "metadata": {},
   "outputs": [],
   "source": [
    "fig, ax = plt.subplots(3, 1, figsize=(4, 3), sharex=True, sharey=True, dpi=300)\n",
    "ret = ax[0].hist(means[means[\"model\"] == \"ELM\"][\"evaluation.acc_diff\"], label=\"ELM\", alpha=.7, bins=50, color=\"black\")\n",
    "means[means[\"model\"] == \"ELMReg\"][\"evaluation.acc_diff\"].plot.hist(label=\"ELMReg\", alpha=.7, bins=ret[1], ax=ax[1], color=\"black\")\n",
    "means[means[\"model\"] == \"ELMPCA\"][\"evaluation.acc_diff\"].plot.hist(label=\"ELMPCA\", alpha=.7, bins=ret[1], ax=ax[2], color=\"black\")\n",
    "ax[0].yaxis.set_label_position(\"right\")\n",
    "ax[1].yaxis.set_label_position(\"right\")\n",
    "ax[2].yaxis.set_label_position(\"right\")\n",
    "ax[0].set_ylabel(\"ELM\")\n",
    "ax[1].set_ylabel(\"ELMReg\")\n",
    "ax[2].set_ylabel(\"ELMPCA\")\n",
    "plt.tight_layout()\n",
    "plt.savefig(\"hist.pdf\")"
   ]
  },
  {
   "cell_type": "markdown",
   "metadata": {},
   "source": [
    "# Compare `ELMReg` with `ELMPCA`"
   ]
  },
  {
   "cell_type": "code",
   "execution_count": null,
   "metadata": {},
   "outputs": [],
   "source": [
    "cmp = means.pivot(columns=\"model\", index=[\"dataset\", \"neurons\"], values=[\"evaluation.acc_test\"])\n",
    "cmp"
   ]
  },
  {
   "cell_type": "markdown",
   "metadata": {},
   "source": [
    "---"
   ]
  }
 ],
 "metadata": {
  "kernelspec": {
   "display_name": "Python 3.9.14 ('.venv': poetry)",
   "language": "python",
   "name": "python3"
  },
  "language_info": {
   "codemirror_mode": {
    "name": "ipython",
    "version": 3
   },
   "file_extension": ".py",
   "mimetype": "text/x-python",
   "name": "python",
   "nbconvert_exporter": "python",
   "pygments_lexer": "ipython3",
   "version": "3.9.14"
  },
  "orig_nbformat": 4,
  "vscode": {
   "interpreter": {
    "hash": "5aaa17ceaad73b17e34098533828f17edc35a2441ebc374a71d3291ab1f65c24"
   }
  }
 },
 "nbformat": 4,
 "nbformat_minor": 2
}
