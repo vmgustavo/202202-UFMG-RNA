{
  "nbformat": 4,
  "nbformat_minor": 0,
  "metadata": {
    "colab": {
      "provenance": []
    },
    "kernelspec": {
      "name": "python3",
      "display_name": "Python 3"
    },
    "language_info": {
      "name": "python"
    },
    "accelerator": "GPU",
    "gpuClass": "standard"
  },
  "cells": [
    {
      "cell_type": "code",
      "source": [
        "from collections import Counter"
      ],
      "metadata": {
        "id": "W5MzBstMBxfu"
      },
      "execution_count": null,
      "outputs": []
    },
    {
      "cell_type": "code",
      "source": [
        "from tensorflow import keras\n",
        "from tensorflow.keras import layers"
      ],
      "metadata": {
        "id": "e3fWfvlNB4Y-"
      },
      "execution_count": null,
      "outputs": []
    },
    {
      "cell_type": "code",
      "source": [
        "import numpy as np"
      ],
      "metadata": {
        "id": "5XDTxhIADbDO"
      },
      "execution_count": null,
      "outputs": []
    },
    {
      "cell_type": "code",
      "source": [
        "import matplotlib.pyplot as plt"
      ],
      "metadata": {
        "id": "RjPp9vfrJMwI"
      },
      "execution_count": null,
      "outputs": []
    },
    {
      "cell_type": "markdown",
      "source": [
        "---"
      ],
      "metadata": {
        "id": "aSiH7uY2Bt5Q"
      }
    },
    {
      "cell_type": "markdown",
      "source": [
        "## Collect Data\n",
        "\n",
        "* [Keras MNIST Dataset](https://keras.io/api/datasets/mnist/)"
      ],
      "metadata": {
        "id": "p6jluX2OCVl4"
      }
    },
    {
      "cell_type": "code",
      "source": [
        "(x_train, y_train), (x_test, y_test) = keras.datasets.mnist.load_data()\n",
        "assert x_train.shape == (60000, 28, 28)\n",
        "assert x_test.shape == (10000, 28, 28)\n",
        "assert y_train.shape == (60000,)\n",
        "assert y_test.shape == (10000,)"
      ],
      "metadata": {
        "id": "OWf__lvgCgc5",
        "colab": {
          "base_uri": "https://localhost:8080/"
        },
        "outputId": "5ec22d45-763e-4795-c78e-c2d71d4d7d1f"
      },
      "execution_count": null,
      "outputs": [
        {
          "output_type": "stream",
          "name": "stdout",
          "text": [
            "Downloading data from https://storage.googleapis.com/tensorflow/tf-keras-datasets/mnist.npz\n",
            "11490434/11490434 [==============================] - 0s 0us/step\n"
          ]
        }
      ]
    },
    {
      "cell_type": "markdown",
      "source": [
        "## Create Neural Net\n",
        "\n",
        "* [Keras MNIST Convolutional Neural Network](https://keras.io/examples/vision/mnist_convnet/)"
      ],
      "metadata": {
        "id": "KAcMQZgCCYe1"
      }
    },
    {
      "cell_type": "code",
      "source": [
        "num_classes = 10"
      ],
      "metadata": {
        "id": "ey43Qv8_ODzO"
      },
      "execution_count": null,
      "outputs": []
    },
    {
      "cell_type": "code",
      "source": [
        "# Load the data and split it between train and test sets\n",
        "(x_train, y_train), (x_test, y_test) = keras.datasets.mnist.load_data()\n",
        "\n",
        "# Scale images to the [0, 1] range\n",
        "x_train = x_train.astype(\"float32\") / 255\n",
        "x_test = x_test.astype(\"float32\") / 255\n",
        "# Make sure images have shape (28, 28, 1)\n",
        "x_train = np.expand_dims(x_train, -1)\n",
        "x_test = np.expand_dims(x_test, -1)\n",
        "print(\"x_train shape:\", x_train.shape)\n",
        "print(x_train.shape[0], \"train samples\")\n",
        "print(x_test.shape[0], \"test samples\")\n",
        "\n",
        "# convert class vectors to binary class matrices\n",
        "y_train = keras.utils.to_categorical(y_train, num_classes)\n",
        "y_test = keras.utils.to_categorical(y_test, num_classes)"
      ],
      "metadata": {
        "colab": {
          "base_uri": "https://localhost:8080/"
        },
        "id": "u-dFw7KyN2xg",
        "outputId": "0b93d6e9-5da5-4277-d199-d521bf68a3a5"
      },
      "execution_count": null,
      "outputs": [
        {
          "output_type": "stream",
          "name": "stdout",
          "text": [
            "x_train shape: (60000, 28, 28, 1)\n",
            "60000 train samples\n",
            "10000 test samples\n"
          ]
        }
      ]
    },
    {
      "cell_type": "markdown",
      "source": [
        "### Bad Params"
      ],
      "metadata": {
        "id": "y4oyVGidHO3i"
      }
    },
    {
      "cell_type": "code",
      "source": [
        "# Model / data parameters\n",
        "input_shape = (28, 28, 1)\n",
        "\n",
        "batch_size = 64\n",
        "epochs = 5\n",
        "\n",
        "model_0 = keras.Sequential(\n",
        "    [\n",
        "        keras.Input(shape=input_shape),\n",
        "        layers.Conv2D(filters=8, kernel_size=(3, 3), activation=\"relu\"),\n",
        "        layers.MaxPooling2D(pool_size=(2, 2)),\n",
        "        layers.Conv2D(filters=16, kernel_size=(3, 3), activation=\"relu\"),\n",
        "        layers.MaxPooling2D(pool_size=(2, 2)),\n",
        "        layers.Dropout(rate=0.25),\n",
        "        layers.Flatten(),\n",
        "        layers.Dense(units=4, activation=\"softmax\"),\n",
        "        layers.Dropout(0.5),\n",
        "        layers.Dense(units=num_classes, activation=\"softmax\"),\n",
        "    ]\n",
        ")\n",
        "\n",
        "model_0.summary()"
      ],
      "metadata": {
        "colab": {
          "base_uri": "https://localhost:8080/"
        },
        "id": "rQ6x2DghDec3",
        "outputId": "db3918fb-5e8a-4c75-e786-51b5fece67cf"
      },
      "execution_count": null,
      "outputs": [
        {
          "output_type": "stream",
          "name": "stdout",
          "text": [
            "Model: \"sequential\"\n",
            "_________________________________________________________________\n",
            " Layer (type)                Output Shape              Param #   \n",
            "=================================================================\n",
            " conv2d (Conv2D)             (None, 26, 26, 8)         80        \n",
            "                                                                 \n",
            " max_pooling2d (MaxPooling2D  (None, 13, 13, 8)        0         \n",
            " )                                                               \n",
            "                                                                 \n",
            " conv2d_1 (Conv2D)           (None, 11, 11, 16)        1168      \n",
            "                                                                 \n",
            " max_pooling2d_1 (MaxPooling  (None, 5, 5, 16)         0         \n",
            " 2D)                                                             \n",
            "                                                                 \n",
            " dropout (Dropout)           (None, 5, 5, 16)          0         \n",
            "                                                                 \n",
            " flatten (Flatten)           (None, 400)               0         \n",
            "                                                                 \n",
            " dense (Dense)               (None, 4)                 1604      \n",
            "                                                                 \n",
            " dropout_1 (Dropout)         (None, 4)                 0         \n",
            "                                                                 \n",
            " dense_1 (Dense)             (None, 10)                50        \n",
            "                                                                 \n",
            "=================================================================\n",
            "Total params: 2,902\n",
            "Trainable params: 2,902\n",
            "Non-trainable params: 0\n",
            "_________________________________________________________________\n"
          ]
        }
      ]
    },
    {
      "cell_type": "code",
      "source": [
        "model_0.compile(loss=\"categorical_crossentropy\", optimizer=\"adadelta\", metrics=[\"accuracy\"])\n",
        "results_0 = model_0.fit(x_train, y_train, batch_size=batch_size, epochs=epochs, validation_split=0.1)"
      ],
      "metadata": {
        "colab": {
          "base_uri": "https://localhost:8080/"
        },
        "id": "neZWP2EmEdnK",
        "outputId": "a57bd2f4-9e5a-4cad-d95b-9ce8153c93da"
      },
      "execution_count": null,
      "outputs": [
        {
          "output_type": "stream",
          "name": "stdout",
          "text": [
            "Epoch 1/5\n",
            "844/844 [==============================] - 15s 4ms/step - loss: 2.3257 - accuracy: 0.1064 - val_loss: 2.3081 - val_accuracy: 0.1050\n",
            "Epoch 2/5\n",
            "844/844 [==============================] - 3s 4ms/step - loss: 2.3245 - accuracy: 0.1081 - val_loss: 2.3075 - val_accuracy: 0.1050\n",
            "Epoch 3/5\n",
            "844/844 [==============================] - 3s 4ms/step - loss: 2.3243 - accuracy: 0.1045 - val_loss: 2.3069 - val_accuracy: 0.1050\n",
            "Epoch 4/5\n",
            "844/844 [==============================] - 4s 4ms/step - loss: 2.3235 - accuracy: 0.1061 - val_loss: 2.3063 - val_accuracy: 0.1050\n",
            "Epoch 5/5\n",
            "844/844 [==============================] - 4s 4ms/step - loss: 2.3223 - accuracy: 0.1059 - val_loss: 2.3056 - val_accuracy: 0.1050\n"
          ]
        }
      ]
    },
    {
      "cell_type": "code",
      "source": [
        "score = model_0.evaluate(x_test, y_test, verbose=0)\n",
        "print(\"Test loss:\", score[0])\n",
        "print(\"Test accuracy:\", score[1])"
      ],
      "metadata": {
        "colab": {
          "base_uri": "https://localhost:8080/"
        },
        "id": "fM6sJOf2FSRY",
        "outputId": "bcffeecb-e2dd-49e9-c12d-d3e929afb306"
      },
      "execution_count": null,
      "outputs": [
        {
          "output_type": "stream",
          "name": "stdout",
          "text": [
            "Test loss: 2.304680347442627\n",
            "Test accuracy: 0.11349999904632568\n"
          ]
        }
      ]
    },
    {
      "cell_type": "code",
      "source": [
        "plt.figure(figsize=(12, 5))\n",
        "\n",
        "plt.plot(results_0.epoch, results_0.history[\"accuracy\"], label=\"acc_train\")\n",
        "plt.plot(results_0.epoch, results_0.history[\"val_accuracy\"], label=\"acc_val\")\n",
        "\n",
        "plt.ylim(-0.2, 1.2)\n",
        "plt.legend()\n",
        "plt.tight_layout()\n",
        "plt.show()\n",
        "plt.close()"
      ],
      "metadata": {
        "colab": {
          "base_uri": "https://localhost:8080/",
          "height": 369
        },
        "id": "_3A_cf3YI3mS",
        "outputId": "13887d86-1dca-4207-9350-05ebc305aae6"
      },
      "execution_count": null,
      "outputs": [
        {
          "output_type": "display_data",
          "data": {
            "text/plain": [
              "<Figure size 864x360 with 1 Axes>"
            ],
            "image/png": "[encoded data removed]"
          },
          "metadata": {
            "needs_background": "light"
          }
        }
      ]
    },
    {
      "cell_type": "markdown",
      "source": [
        "### New Params"
      ],
      "metadata": {
        "id": "bj8RkC9GHY7U"
      }
    },
    {
      "cell_type": "code",
      "source": [
        "# Model / data parameters\n",
        "input_shape = (28, 28, 1)\n",
        "num_classes = 10\n",
        "\n",
        "batch_size = 128\n",
        "epochs = 64\n",
        "\n",
        "model_1 = keras.Sequential(\n",
        "    [\n",
        "        keras.Input(shape=input_shape),\n",
        "        layers.Conv2D(filters=32, kernel_size=(3, 3), activation=\"relu\"),\n",
        "        layers.MaxPooling2D(pool_size=(2, 2)),\n",
        "        layers.Conv2D(filters=64, kernel_size=(3, 3), activation=\"relu\"),\n",
        "        layers.MaxPooling2D(pool_size=(2, 2)),\n",
        "        layers.Flatten(),\n",
        "        layers.Dropout(0.5),\n",
        "        layers.Dense(units=num_classes, activation=\"softmax\"),\n",
        "    ]\n",
        ")\n",
        "\n",
        "model_1.summary()"
      ],
      "metadata": {
        "colab": {
          "base_uri": "https://localhost:8080/"
        },
        "outputId": "40134689-9354-4c53-b3b5-341d1cdcf2ac",
        "id": "NgpG0YrfHY7V"
      },
      "execution_count": null,
      "outputs": [
        {
          "output_type": "stream",
          "name": "stdout",
          "text": [
            "Model: \"sequential_1\"\n",
            "_________________________________________________________________\n",
            " Layer (type)                Output Shape              Param #   \n",
            "=================================================================\n",
            " conv2d_2 (Conv2D)           (None, 26, 26, 32)        320       \n",
            "                                                                 \n",
            " max_pooling2d_2 (MaxPooling  (None, 13, 13, 32)       0         \n",
            " 2D)                                                             \n",
            "                                                                 \n",
            " conv2d_3 (Conv2D)           (None, 11, 11, 64)        18496     \n",
            "                                                                 \n",
            " max_pooling2d_3 (MaxPooling  (None, 5, 5, 64)         0         \n",
            " 2D)                                                             \n",
            "                                                                 \n",
            " flatten_1 (Flatten)         (None, 1600)              0         \n",
            "                                                                 \n",
            " dropout_2 (Dropout)         (None, 1600)              0         \n",
            "                                                                 \n",
            " dense_2 (Dense)             (None, 10)                16010     \n",
            "                                                                 \n",
            "=================================================================\n",
            "Total params: 34,826\n",
            "Trainable params: 34,826\n",
            "Non-trainable params: 0\n",
            "_________________________________________________________________\n"
          ]
        }
      ]
    },
    {
      "cell_type": "code",
      "source": [
        "callback = keras.callbacks.EarlyStopping(monitor=\"loss\", patience=3)\n",
        "\n",
        "model_1.compile(\n",
        "    loss=\"categorical_crossentropy\",\n",
        "    optimizer=\"adam\",\n",
        "    metrics=[\"accuracy\"]\n",
        ")\n",
        "\n",
        "results_1 = model_1.fit(\n",
        "    x_train, y_train,\n",
        "    batch_size=batch_size, epochs=epochs,\n",
        "    validation_split=0.1,\n",
        "    callbacks=[callback],\n",
        "    verbose=1\n",
        ")"
      ],
      "metadata": {
        "colab": {
          "base_uri": "https://localhost:8080/"
        },
        "outputId": "07715963-0a7f-4227-db56-0b74106351e8",
        "id": "r_TliR-HHY7V"
      },
      "execution_count": null,
      "outputs": [
        {
          "output_type": "stream",
          "name": "stdout",
          "text": [
            "Epoch 1/64\n",
            "422/422 [==============================] - 3s 6ms/step - loss: 0.3719 - accuracy: 0.8867 - val_loss: 0.0838 - val_accuracy: 0.9762\n",
            "Epoch 2/64\n",
            "422/422 [==============================] - 2s 5ms/step - loss: 0.1143 - accuracy: 0.9646 - val_loss: 0.0581 - val_accuracy: 0.9842\n",
            "Epoch 3/64\n",
            "422/422 [==============================] - 2s 5ms/step - loss: 0.0878 - accuracy: 0.9726 - val_loss: 0.0455 - val_accuracy: 0.9882\n",
            "Epoch 4/64\n",
            "422/422 [==============================] - 2s 5ms/step - loss: 0.0725 - accuracy: 0.9773 - val_loss: 0.0437 - val_accuracy: 0.9892\n",
            "Epoch 5/64\n",
            "422/422 [==============================] - 2s 5ms/step - loss: 0.0650 - accuracy: 0.9795 - val_loss: 0.0383 - val_accuracy: 0.9903\n",
            "Epoch 6/64\n",
            "422/422 [==============================] - 2s 5ms/step - loss: 0.0565 - accuracy: 0.9826 - val_loss: 0.0367 - val_accuracy: 0.9902\n",
            "Epoch 7/64\n",
            "422/422 [==============================] - 2s 5ms/step - loss: 0.0533 - accuracy: 0.9835 - val_loss: 0.0364 - val_accuracy: 0.9902\n",
            "Epoch 8/64\n",
            "422/422 [==============================] - 2s 5ms/step - loss: 0.0501 - accuracy: 0.9844 - val_loss: 0.0354 - val_accuracy: 0.9900\n",
            "Epoch 9/64\n",
            "422/422 [==============================] - 2s 5ms/step - loss: 0.0460 - accuracy: 0.9850 - val_loss: 0.0328 - val_accuracy: 0.9912\n",
            "Epoch 10/64\n",
            "422/422 [==============================] - 2s 5ms/step - loss: 0.0446 - accuracy: 0.9863 - val_loss: 0.0319 - val_accuracy: 0.9907\n",
            "Epoch 11/64\n",
            "422/422 [==============================] - 2s 5ms/step - loss: 0.0405 - accuracy: 0.9872 - val_loss: 0.0297 - val_accuracy: 0.9927\n",
            "Epoch 12/64\n",
            "422/422 [==============================] - 2s 5ms/step - loss: 0.0395 - accuracy: 0.9874 - val_loss: 0.0281 - val_accuracy: 0.9932\n",
            "Epoch 13/64\n",
            "422/422 [==============================] - 2s 5ms/step - loss: 0.0368 - accuracy: 0.9884 - val_loss: 0.0279 - val_accuracy: 0.9930\n",
            "Epoch 14/64\n",
            "422/422 [==============================] - 2s 5ms/step - loss: 0.0364 - accuracy: 0.9881 - val_loss: 0.0313 - val_accuracy: 0.9920\n",
            "Epoch 15/64\n",
            "422/422 [==============================] - 2s 5ms/step - loss: 0.0343 - accuracy: 0.9889 - val_loss: 0.0289 - val_accuracy: 0.9920\n",
            "Epoch 16/64\n",
            "422/422 [==============================] - 2s 5ms/step - loss: 0.0337 - accuracy: 0.9893 - val_loss: 0.0278 - val_accuracy: 0.9920\n",
            "Epoch 17/64\n",
            "422/422 [==============================] - 2s 5ms/step - loss: 0.0307 - accuracy: 0.9896 - val_loss: 0.0302 - val_accuracy: 0.9918\n",
            "Epoch 18/64\n",
            "422/422 [==============================] - 2s 5ms/step - loss: 0.0304 - accuracy: 0.9901 - val_loss: 0.0294 - val_accuracy: 0.9920\n",
            "Epoch 19/64\n",
            "422/422 [==============================] - 2s 5ms/step - loss: 0.0285 - accuracy: 0.9908 - val_loss: 0.0288 - val_accuracy: 0.9923\n",
            "Epoch 20/64\n",
            "422/422 [==============================] - 2s 5ms/step - loss: 0.0281 - accuracy: 0.9902 - val_loss: 0.0283 - val_accuracy: 0.9922\n",
            "Epoch 21/64\n",
            "422/422 [==============================] - 2s 5ms/step - loss: 0.0277 - accuracy: 0.9910 - val_loss: 0.0300 - val_accuracy: 0.9915\n",
            "Epoch 22/64\n",
            "422/422 [==============================] - 2s 5ms/step - loss: 0.0272 - accuracy: 0.9912 - val_loss: 0.0321 - val_accuracy: 0.9912\n",
            "Epoch 23/64\n",
            "422/422 [==============================] - 2s 5ms/step - loss: 0.0259 - accuracy: 0.9914 - val_loss: 0.0285 - val_accuracy: 0.9923\n",
            "Epoch 24/64\n",
            "422/422 [==============================] - 2s 5ms/step - loss: 0.0259 - accuracy: 0.9912 - val_loss: 0.0263 - val_accuracy: 0.9933\n",
            "Epoch 25/64\n",
            "422/422 [==============================] - 2s 5ms/step - loss: 0.0248 - accuracy: 0.9918 - val_loss: 0.0281 - val_accuracy: 0.9923\n",
            "Epoch 26/64\n",
            "422/422 [==============================] - 2s 5ms/step - loss: 0.0247 - accuracy: 0.9918 - val_loss: 0.0274 - val_accuracy: 0.9930\n",
            "Epoch 27/64\n",
            "422/422 [==============================] - 2s 5ms/step - loss: 0.0235 - accuracy: 0.9923 - val_loss: 0.0279 - val_accuracy: 0.9918\n",
            "Epoch 28/64\n",
            "422/422 [==============================] - 2s 5ms/step - loss: 0.0227 - accuracy: 0.9919 - val_loss: 0.0290 - val_accuracy: 0.9927\n",
            "Epoch 29/64\n",
            "422/422 [==============================] - 3s 6ms/step - loss: 0.0214 - accuracy: 0.9927 - val_loss: 0.0281 - val_accuracy: 0.9925\n",
            "Epoch 30/64\n",
            "422/422 [==============================] - 2s 6ms/step - loss: 0.0200 - accuracy: 0.9936 - val_loss: 0.0306 - val_accuracy: 0.9918\n",
            "Epoch 31/64\n",
            "422/422 [==============================] - 2s 5ms/step - loss: 0.0211 - accuracy: 0.9928 - val_loss: 0.0294 - val_accuracy: 0.9925\n",
            "Epoch 32/64\n",
            "422/422 [==============================] - 2s 5ms/step - loss: 0.0227 - accuracy: 0.9921 - val_loss: 0.0292 - val_accuracy: 0.9927\n",
            "Epoch 33/64\n",
            "422/422 [==============================] - 2s 5ms/step - loss: 0.0211 - accuracy: 0.9931 - val_loss: 0.0315 - val_accuracy: 0.9918\n"
          ]
        }
      ]
    },
    {
      "cell_type": "code",
      "source": [
        "score = model_1.evaluate(x_test, y_test, verbose=0)\n",
        "print(\"Test loss:\", score[0])\n",
        "print(\"Test accuracy:\", score[1])"
      ],
      "metadata": {
        "colab": {
          "base_uri": "https://localhost:8080/"
        },
        "outputId": "50224817-6bcb-4779-b0da-ca0176e3786b",
        "id": "Bc2XyXK_HY7V"
      },
      "execution_count": null,
      "outputs": [
        {
          "output_type": "stream",
          "name": "stdout",
          "text": [
            "Test loss: 0.024333052337169647\n",
            "Test accuracy: 0.9925000071525574\n"
          ]
        }
      ]
    },
    {
      "cell_type": "code",
      "source": [
        "plt.figure(figsize=(12, 5))\n",
        "\n",
        "plt.plot(results_1.epoch, results_1.history[\"accuracy\"], label=\"acc_train\")\n",
        "plt.plot(results_1.epoch, results_1.history[\"val_accuracy\"], label=\"acc_val\")\n",
        "\n",
        "plt.ylim(-0.2, 1.2)\n",
        "plt.legend()\n",
        "plt.tight_layout()\n",
        "plt.show()\n",
        "plt.close()"
      ],
      "metadata": {
        "colab": {
          "base_uri": "https://localhost:8080/",
          "height": 369
        },
        "id": "CpBGsn__KTMX",
        "outputId": "52eeb92d-0054-4820-f28a-b9e07e8481bc"
      },
      "execution_count": null,
      "outputs": [
        {
          "output_type": "display_data",
          "data": {
            "text/plain": [
              "<Figure size 864x360 with 1 Axes>"
            ],
            "image/png": "[encoded data removed]"
          },
          "metadata": {
            "needs_background": "light"
          }
        }
      ]
    },
    {
      "cell_type": "markdown",
      "source": [
        "---"
      ],
      "metadata": {
        "id": "G4G5MFGWKXRv"
      }
    }
  ]
}