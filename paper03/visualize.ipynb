{
 "cells": [
  {
   "cell_type": "code",
   "execution_count": null,
   "outputs": [],
   "source": [
    "from pathlib import Path\n",
    "import json"
   ],
   "metadata": {
    "collapsed": false
   }
  },
  {
   "cell_type": "code",
   "execution_count": null,
   "metadata": {},
   "outputs": [],
   "source": [
    "import pandas as pd"
   ]
  },
  {
   "cell_type": "code",
   "execution_count": null,
   "outputs": [],
   "source": [
    "import seaborn as sns\n",
    "import matplotlib.pyplot as plt\n",
    "plt.style.use(\"grayscale\")"
   ],
   "metadata": {
    "collapsed": false
   }
  },
  {
   "cell_type": "markdown",
   "metadata": {},
   "source": [
    "# Results"
   ]
  },
  {
   "cell_type": "code",
   "execution_count": null,
   "metadata": {},
   "outputs": [],
   "source": [
    "files = list()\n",
    "for file in Path(\"results\").glob(\"*.json\"):\n",
    "    with open(file, \"r\") as f:\n",
    "        files.append(json.load(f))\n",
    "\n",
    "df = pd.json_normalize(files)"
   ]
  },
  {
   "cell_type": "code",
   "execution_count": null,
   "metadata": {},
   "outputs": [],
   "source": [
    "df[\"acc_diff\"] = (df[\"acc_test\"] - df[\"acc_train\"]).abs()"
   ]
  },
  {
   "cell_type": "code",
   "execution_count": null,
   "outputs": [],
   "source": [
    "df[\"dataset\"].unique()"
   ],
   "metadata": {
    "collapsed": false
   }
  },
  {
   "cell_type": "code",
   "execution_count": null,
   "outputs": [],
   "source": [
    "df.columns"
   ],
   "metadata": {
    "collapsed": false
   }
  },
  {
   "cell_type": "code",
   "execution_count": null,
   "outputs": [],
   "source": [
    "sns.lmplot(\n",
    "    data=df, x=\"alpha\", y=\"gg_border_perc\", col=\"dataset\",\n",
    "    col_wrap=4, palette=\"muted\", ci=None,\n",
    "    height=3, scatter_kws={\"s\": 10, \"alpha\": .3},\n",
    ")\n",
    "plt.xscale(\"log\")"
   ],
   "metadata": {
    "collapsed": false
   }
  },
  {
   "cell_type": "code",
   "execution_count": null,
   "metadata": {},
   "outputs": [],
   "source": [
    "metrics = [\n",
    "    \"silhouette_score\", \"sil_neg_samples_score\",\n",
    "    \"calinski_harabasz_score\", \"davies_bouldin_score\",\n",
    "    \"gg_neigh_index\", \"gg_border_perc\",\n",
    "]"
   ]
  },
  {
   "cell_type": "code",
   "execution_count": null,
   "metadata": {},
   "outputs": [],
   "source": [
    "aux = list()\n",
    "for cdt in df[\"dataset\"].unique():\n",
    "    aux.append(\n",
    "        df[df[\"dataset\"] == cdt]\n",
    "        .corr(numeric_only=True)\n",
    "        [[\"alpha\"]]\n",
    "        .loc[metrics]\n",
    "        .reset_index()\n",
    "        .rename(columns={\"index\": \"metrics\"})\n",
    "        .assign(dataset=cdt)\n",
    "    )\n",
    "corrs = pd.concat(aux)"
   ]
  },
  {
   "cell_type": "code",
   "execution_count": null,
   "outputs": [],
   "source": [
    "corrs.pivot(columns=\"dataset\", index=\"metrics\", values=\"alpha\")"
   ],
   "metadata": {
    "collapsed": false
   }
  },
  {
   "cell_type": "code",
   "execution_count": null,
   "outputs": [],
   "source": [
    "df.corr(numeric_only=True)[[\"alpha\"]].loc[metrics]"
   ],
   "metadata": {
    "collapsed": false
   }
  },
  {
   "cell_type": "markdown",
   "metadata": {},
   "source": [
    "---"
   ]
  }
 ],
 "metadata": {
  "kernelspec": {
   "display_name": "Python 3.9.14 ('.venv': poetry)",
   "language": "python",
   "name": "python3"
  },
  "language_info": {
   "codemirror_mode": {
    "name": "ipython",
    "version": 3
   },
   "file_extension": ".py",
   "mimetype": "text/x-python",
   "name": "python",
   "nbconvert_exporter": "python",
   "pygments_lexer": "ipython3",
   "version": "3.9.14"
  },
  "orig_nbformat": 4,
  "vscode": {
   "interpreter": {
    "hash": "5aaa17ceaad73b17e34098533828f17edc35a2441ebc374a71d3291ab1f65c24"
   }
  }
 },
 "nbformat": 4,
 "nbformat_minor": 2
}
