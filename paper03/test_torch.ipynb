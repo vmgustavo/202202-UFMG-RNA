{
 "cells": [
  {
   "cell_type": "code",
   "execution_count": 1,
   "outputs": [],
   "source": [
    "import torch"
   ],
   "metadata": {
    "collapsed": false
   }
  },
  {
   "cell_type": "code",
   "execution_count": 2,
   "outputs": [],
   "source": [
    "import numpy as np"
   ],
   "metadata": {
    "collapsed": false
   }
  },
  {
   "cell_type": "code",
   "execution_count": 3,
   "metadata": {
    "collapsed": true
   },
   "outputs": [],
   "source": [
    "import sys\n",
    "import pathlib"
   ]
  },
  {
   "cell_type": "code",
   "execution_count": 4,
   "outputs": [],
   "source": [
    "from sklearn.neural_network import MLPClassifier\n",
    "from sklearn.model_selection import train_test_split\n",
    "from sklearn.metrics import accuracy_score"
   ],
   "metadata": {
    "collapsed": false
   }
  },
  {
   "cell_type": "code",
   "execution_count": 5,
   "outputs": [],
   "source": [
    "import matplotlib.pyplot as plt"
   ],
   "metadata": {
    "collapsed": false
   }
  },
  {
   "cell_type": "markdown",
   "source": [
    "---"
   ],
   "metadata": {
    "collapsed": false
   }
  },
  {
   "cell_type": "code",
   "execution_count": 6,
   "outputs": [],
   "source": [
    "sys.path.insert(0, str(pathlib.Path(\"../paper02/src\")))"
   ],
   "metadata": {
    "collapsed": false
   }
  },
  {
   "cell_type": "code",
   "execution_count": 7,
   "outputs": [],
   "source": [
    "# noinspection PyPackageRequirements, PyUnresolvedReferences\n",
    "from datasets import get_blobs"
   ],
   "metadata": {
    "collapsed": false
   }
  },
  {
   "cell_type": "markdown",
   "source": [
    "---"
   ],
   "metadata": {
    "collapsed": false
   }
  },
  {
   "cell_type": "code",
   "execution_count": 8,
   "outputs": [],
   "source": [
    "data, target = get_blobs()"
   ],
   "metadata": {
    "collapsed": false
   }
  },
  {
   "cell_type": "markdown",
   "source": [
    "# Scikit-Learn Model"
   ],
   "metadata": {
    "collapsed": false
   }
  },
  {
   "cell_type": "code",
   "execution_count": 9,
   "outputs": [],
   "source": [
    "model = MLPClassifier(hidden_layer_sizes=(100, ))"
   ],
   "metadata": {
    "collapsed": false
   }
  },
  {
   "cell_type": "code",
   "execution_count": 10,
   "outputs": [],
   "source": [
    "X_train, X_test, y_train, y_test = train_test_split(data, target, test_size=0.3)"
   ],
   "metadata": {
    "collapsed": false
   }
  },
  {
   "cell_type": "code",
   "execution_count": 11,
   "outputs": [],
   "source": [
    "model.fit(X_train, y_train);"
   ],
   "metadata": {
    "collapsed": false
   }
  },
  {
   "cell_type": "code",
   "execution_count": 12,
   "outputs": [
    {
     "data": {
      "text/plain": "0.8796747967479674"
     },
     "execution_count": 12,
     "metadata": {},
     "output_type": "execute_result"
    }
   ],
   "source": [
    "y_pred = model.predict(X_test)\n",
    "accuracy_score(y_test, y_pred)"
   ],
   "metadata": {
    "collapsed": false
   }
  },
  {
   "cell_type": "markdown",
   "source": [
    "# PyTorch Model\n",
    "[Source](https://medium.com/biaslyai/pytorch-introduction-to-neural-network-feedforward-neural-network-model-e7231cff47cb)"
   ],
   "metadata": {
    "collapsed": false
   }
  },
  {
   "cell_type": "code",
   "execution_count": 13,
   "outputs": [],
   "source": [
    "X_train, X_test, y_train, y_test = train_test_split(data, target, test_size=0.3)\n",
    "\n",
    "X_train = torch.FloatTensor(X_train.values)\n",
    "X_test = torch.FloatTensor(X_test.values)\n",
    "y_train = torch.FloatTensor(y_train.values > 0)\n",
    "y_test = torch.FloatTensor(y_test.values > 0)"
   ],
   "metadata": {
    "collapsed": false
   }
  },
  {
   "cell_type": "code",
   "execution_count": 14,
   "outputs": [
    {
     "data": {
      "text/plain": "(torch.Size([1433, 2]),\n torch.Size([615, 2]),\n torch.Size([1433]),\n torch.Size([615]))"
     },
     "execution_count": 14,
     "metadata": {},
     "output_type": "execute_result"
    }
   ],
   "source": [
    "X_train.shape, X_test.shape, y_train.shape, y_test.shape"
   ],
   "metadata": {
    "collapsed": false
   }
  },
  {
   "cell_type": "code",
   "execution_count": 15,
   "outputs": [],
   "source": [
    "class FeedForward(torch.nn.Module):\n",
    "    def __init__(self, input_size, hidden_size):\n",
    "        super(FeedForward, self).__init__()\n",
    "\n",
    "        self.input_size = input_size\n",
    "        self.hidden_size  = hidden_size\n",
    "        self.fc1 = torch.nn.Linear(self.input_size, self.hidden_size)\n",
    "        self.activation = torch.nn.modules.activation.Tanh()\n",
    "        self.fc2 = torch.nn.Linear(self.hidden_size, 1)\n",
    "        self.sigmoid = torch.nn.Sigmoid()\n",
    "\n",
    "    def forward(self, x):\n",
    "        hidden = self.fc1(x)\n",
    "        activation = self.activation(hidden)\n",
    "        output = self.fc2(activation)\n",
    "        output = self.sigmoid(output)\n",
    "        return output"
   ],
   "metadata": {
    "collapsed": false
   }
  },
  {
   "cell_type": "code",
   "execution_count": 18,
   "outputs": [
    {
     "data": {
      "text/plain": "[Parameter containing:\n tensor([[-0.3442,  0.1052],\n         [-0.1196,  0.3383],\n         [ 0.5783,  0.6527],\n         [-0.1986, -0.4107],\n         [ 0.6552, -0.7043],\n         [-0.1917, -0.7037],\n         [ 0.1366,  0.0353],\n         [-0.0945,  0.2322],\n         [-0.4663, -0.1278],\n         [-0.5419, -0.4661],\n         [ 0.3972, -0.2507],\n         [ 0.0249, -0.1457],\n         [-0.5649, -0.4915],\n         [ 0.4690,  0.6167],\n         [-0.6890, -0.1799],\n         [-0.3887, -0.7037],\n         [ 0.6419, -0.2280],\n         [ 0.2610, -0.0375],\n         [-0.5586, -0.0326],\n         [ 0.4489,  0.2585],\n         [ 0.3796, -0.6680],\n         [-0.3190,  0.5998],\n         [-0.5103,  0.1720],\n         [-0.3876, -0.3718],\n         [ 0.5493,  0.3481],\n         [-0.2065, -0.5005],\n         [ 0.2198,  0.0280],\n         [-0.2571, -0.3262],\n         [-0.3754,  0.4973],\n         [-0.3492, -0.3015],\n         [-0.0764, -0.6834],\n         [-0.4980, -0.1697],\n         [-0.3329, -0.5753],\n         [ 0.3919,  0.1541],\n         [ 0.2948, -0.1095],\n         [ 0.3029,  0.2856],\n         [ 0.3468,  0.6315],\n         [-0.0767,  0.7042],\n         [-0.3127, -0.3459],\n         [ 0.0591,  0.5570],\n         [ 0.1742,  0.2963],\n         [ 0.6926,  0.2538],\n         [-0.6860,  0.5090],\n         [ 0.0295, -0.0290],\n         [ 0.1608, -0.4363],\n         [-0.1299, -0.3481],\n         [-0.0498,  0.5709],\n         [ 0.0568,  0.4244],\n         [-0.0176,  0.4890],\n         [ 0.1330, -0.0654],\n         [-0.2755, -0.5512],\n         [ 0.3672, -0.4138],\n         [-0.6748, -0.6394],\n         [-0.6451,  0.1315],\n         [-0.0535,  0.2678],\n         [ 0.3746,  0.2514],\n         [-0.4977,  0.2637],\n         [-0.2504, -0.6927],\n         [ 0.4906,  0.2988],\n         [-0.3551,  0.6505],\n         [-0.3521, -0.3307],\n         [-0.6922,  0.6608],\n         [ 0.6393, -0.1079],\n         [ 0.4912, -0.1496],\n         [-0.5691,  0.6972],\n         [-0.6912, -0.6475],\n         [-0.1833, -0.5328],\n         [ 0.0015, -0.2613],\n         [ 0.3759, -0.1618],\n         [-0.0868,  0.5974],\n         [ 0.5896, -0.2971],\n         [-0.3307, -0.0025],\n         [ 0.2293,  0.0715],\n         [ 0.6102, -0.0213],\n         [-0.2010,  0.3913],\n         [ 0.3897,  0.6214],\n         [ 0.5045, -0.4841],\n         [-0.3742, -0.4415],\n         [-0.1973,  0.1784],\n         [-0.4210, -0.0611],\n         [ 0.3061, -0.0390],\n         [ 0.0117, -0.4983],\n         [ 0.4117,  0.2898],\n         [ 0.2540,  0.5817],\n         [ 0.3180,  0.6592],\n         [-0.5968,  0.4555],\n         [ 0.0385, -0.0462],\n         [ 0.0926,  0.0338],\n         [-0.6475, -0.2878],\n         [-0.5051,  0.0497],\n         [ 0.0081, -0.4095],\n         [ 0.4438, -0.1399],\n         [ 0.7003, -0.2047],\n         [ 0.4697, -0.5342],\n         [ 0.2375, -0.3578],\n         [ 0.6300, -0.2202],\n         [ 0.0889, -0.0177],\n         [ 0.4873, -0.4336],\n         [ 0.5408,  0.4721],\n         [-0.4450, -0.2124]], requires_grad=True),\n Parameter containing:\n tensor([ 0.2961, -0.4420,  0.4525, -0.0868,  0.5140, -0.0243, -0.5660, -0.1884,\n         -0.5525, -0.0923, -0.3596,  0.6605, -0.1640, -0.0815, -0.0894,  0.0602,\n          0.1697, -0.3383, -0.2944,  0.6189,  0.3867,  0.6401,  0.5753, -0.3925,\n         -0.2411,  0.2953, -0.0477, -0.2605,  0.6889,  0.2134,  0.4689,  0.6878,\n          0.2909, -0.2085, -0.1734, -0.3968, -0.4819, -0.0171, -0.5942,  0.1697,\n         -0.0809,  0.2039, -0.5782, -0.2712,  0.4346,  0.6477,  0.2390, -0.2913,\n          0.4495, -0.1474, -0.5552,  0.4841,  0.3483, -0.5551, -0.0903,  0.0865,\n         -0.1772,  0.5870, -0.5192, -0.5219,  0.6984, -0.2804,  0.4946, -0.4842,\n         -0.4661, -0.5226,  0.0324, -0.5585, -0.5609,  0.0678, -0.4377, -0.4363,\n         -0.4263, -0.3007, -0.0737, -0.2026,  0.1303, -0.6901,  0.2907, -0.0551,\n         -0.4924,  0.0398,  0.6197,  0.6791, -0.4569, -0.1369,  0.5106,  0.3162,\n         -0.1844,  0.1060,  0.6961, -0.6483,  0.2815,  0.0084, -0.3715,  0.5929,\n         -0.2250,  0.4966,  0.5080,  0.0895], requires_grad=True),\n Parameter containing:\n tensor([[-0.0350, -0.0024,  0.0382, -0.0831,  0.0566,  0.0041, -0.0611, -0.0557,\n          -0.0775,  0.0981,  0.0877,  0.0317,  0.0547,  0.0523, -0.0233,  0.0766,\n           0.0740, -0.0725, -0.0542,  0.0710,  0.0292,  0.0725,  0.0837,  0.0235,\n           0.0298, -0.0114, -0.0298, -0.0906,  0.0011, -0.0030,  0.0049, -0.0615,\n           0.0403, -0.0965,  0.0067,  0.0709, -0.0618, -0.0208,  0.0381,  0.0178,\n           0.0773, -0.0653,  0.0611, -0.0882, -0.0073,  0.0274, -0.0078, -0.0303,\n           0.0350,  0.0421,  0.0112, -0.0078, -0.0958, -0.0150,  0.0469,  0.0579,\n          -0.0531,  0.0520, -0.0883,  0.0620, -0.0676,  0.0198,  0.0406,  0.0105,\n          -0.0832, -0.0702,  0.0042, -0.0387, -0.0813, -0.0402, -0.0107, -0.0549,\n          -0.0027,  0.0300,  0.0002, -0.0974,  0.0955, -0.0922, -0.0602, -0.0098,\n           0.0877, -0.0936, -0.0996, -0.0027,  0.0056,  0.0202, -0.0697,  0.0693,\n          -0.0310,  0.0885,  0.0241, -0.0269, -0.0270, -0.0845,  0.0774, -0.0596,\n           0.0156, -0.0514, -0.0424,  0.0057]], requires_grad=True),\n Parameter containing:\n tensor([0.0112], requires_grad=True)]"
     },
     "execution_count": 18,
     "metadata": {},
     "output_type": "execute_result"
    }
   ],
   "source": [
    "model = FeedForward(input_size=X_train.shape[1], hidden_size=100)\n",
    "list(model.parameters())"
   ],
   "metadata": {
    "collapsed": false
   }
  },
  {
   "cell_type": "code",
   "execution_count": null,
   "outputs": [],
   "source": [
    "model = FeedForward(input_size=X_train.shape[1], hidden_size=100)\n",
    "criterion = torch.nn.modules.loss.BCELoss()\n",
    "optimizer = torch.optim.Adam(model.parameters(), lr=0.01)"
   ],
   "metadata": {
    "collapsed": false
   }
  },
  {
   "cell_type": "code",
   "execution_count": null,
   "outputs": [],
   "source": [
    "model.train()\n",
    "epoch = 200\n",
    "\n",
    "for epoch in range(epoch):\n",
    "    optimizer.zero_grad()\n",
    "    y_pred = model(X_train)\n",
    "    loss = criterion(y_pred.squeeze(), y_train)\n",
    "    loss.backward()\n",
    "    optimizer.step()"
   ],
   "metadata": {
    "collapsed": false
   }
  },
  {
   "cell_type": "code",
   "execution_count": null,
   "outputs": [],
   "source": [
    "model.eval()\n",
    "y_pred = model(X_test)\n",
    "after_train = criterion(y_pred.squeeze(), y_test)\n",
    "\n",
    "print('Test loss after Training' , after_train.item())"
   ],
   "metadata": {
    "collapsed": false
   }
  },
  {
   "cell_type": "code",
   "execution_count": null,
   "outputs": [],
   "source": [
    "plt.hist(y_pred.detach().numpy(), alpha=.5)\n",
    "plt.hist(y_test.detach().numpy(), alpha=.5)\n",
    "plt.show()\n",
    "plt.close()"
   ],
   "metadata": {
    "collapsed": false
   }
  },
  {
   "cell_type": "code",
   "execution_count": null,
   "outputs": [],
   "source": [
    "accuracy_score(y_pred.detach().numpy() > 0.5, y_test.detach().numpy() > 0.5)"
   ],
   "metadata": {
    "collapsed": false
   }
  },
  {
   "cell_type": "markdown",
   "source": [
    "---"
   ],
   "metadata": {
    "collapsed": false
   }
  }
 ],
 "metadata": {
  "kernelspec": {
   "display_name": "Python 3",
   "language": "python",
   "name": "python3"
  },
  "language_info": {
   "codemirror_mode": {
    "name": "ipython",
    "version": 2
   },
   "file_extension": ".py",
   "mimetype": "text/x-python",
   "name": "python",
   "nbconvert_exporter": "python",
   "pygments_lexer": "ipython2",
   "version": "2.7.6"
  }
 },
 "nbformat": 4,
 "nbformat_minor": 0
}
